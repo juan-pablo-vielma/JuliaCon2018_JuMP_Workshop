{
 "cells": [
  {
   "cell_type": "markdown",
   "metadata": {
    "slideshow": {
     "slide_type": "slide"
    }
   },
   "source": [
    "# The JuMP ecosystem for mathematical optimization: Topics\n",
    "\n",
    "## JuliaCon 2018\n",
    "\n",
    "## Juan Pablo Vielma\n",
    "## MIT Sloan"
   ]
  },
  {
   "cell_type": "code",
   "execution_count": null,
   "metadata": {},
   "outputs": [],
   "source": [
    "using JuMP  \n",
    "using MathOptInterface # Replaces MathProgBase\n",
    "# shortcuts\n",
    "const MOI = MathOptInterface\n",
    "const MOIU = MathOptInterface.Utilities\n",
    "\n",
    "using GLPK # Loading the GLPK module for using its solver\n",
    "using Compat"
   ]
  },
  {
   "cell_type": "markdown",
   "metadata": {
    "slideshow": {
     "slide_type": "slide"
    }
   },
   "source": [
    "# Duality"
   ]
  },
  {
   "cell_type": "code",
   "execution_count": null,
   "metadata": {},
   "outputs": [],
   "source": [
    "model = Model(with_optimizer(GLPK.Optimizer))\n",
    "@variable(model, x >= 0)\n",
    "@variable(model, y >= 0)\n",
    "@constraint(model,inequality, x + y <= 1)         \n",
    "@objective(model, Max, x + 2y)\n",
    "JuMP.optimize(model)\n",
    "@show JuMP.terminationstatus(model) == MOI.Success\n",
    "@show JuMP.dualstatus(model) == MOI.FeasiblePoint\n",
    "@show JuMP.resultdual(inequality)"
   ]
  },
  {
   "cell_type": "markdown",
   "metadata": {
    "slideshow": {
     "slide_type": "fragment"
    }
   },
   "source": [
    "Also duals for variable bounds."
   ]
  },
  {
   "cell_type": "code",
   "execution_count": null,
   "metadata": {},
   "outputs": [],
   "source": [
    "@show JuMP.resultdual(JuMP.LowerBoundRef(x))\n",
    "@show JuMP.resultdual(JuMP.LowerBoundRef(y))"
   ]
  },
  {
   "cell_type": "markdown",
   "metadata": {},
   "source": [
    "For sign conventions and precise definition of \"dual\" problem see [Duality](http://www.juliaopt.org/MathOptInterface.jl/stable/apimanual.html#Duals-1) in [MOI Manual](http://www.juliaopt.org/MathOptInterface.jl/stable)"
   ]
  },
  {
   "cell_type": "markdown",
   "metadata": {
    "collapsed": true,
    "slideshow": {
     "slide_type": "slide"
    }
   },
   "source": [
    "# More on JuMP Containers"
   ]
  },
  {
   "cell_type": "code",
   "execution_count": null,
   "metadata": {},
   "outputs": [],
   "source": [
    "model = Model(with_optimizer(GLPK.Optimizer))\n",
    "@variable(model, x[i=1:5, j=1:5])                        # Array      <=> @variable(m, x[i=1:5, j=1:5], container = Auto)\n",
    "set_1 = Base.OneTo(5)\n",
    "@variable(model, y[i=set_1, j=1:5])                      # Array\n",
    "set_2 = 1:5\n",
    "@variable(model, z1[i=1:5, j=set_2])                     # JuMPArray\n",
    "@variable(model, z2[i=1:5, j=set_2], container = Array)  # Array\n",
    "a = 1\n",
    "@variable(model, zz1[i=1:5, j=a:5])                      # JuMPArray\n",
    "@variable(model, zz2[i=1:5, j=a:5], container = Array)   # Array\n",
    "set_3 = [:a, :b, :c]\n",
    "@variable(model, w[i=set_2, j=set_3])                    # JuMPArray\n",
    "@variable(model, t[i=set_2, j=1:i])                      # Dict\n",
    "@variable(model, h[i = 1:5; j=isodd(i)])                 # Dict "
   ]
  },
  {
   "cell_type": "markdown",
   "metadata": {},
   "source": [
    "Auto chooses the tightest applicable container based on compile-time information only and is **type stable**"
   ]
  },
  {
   "cell_type": "markdown",
   "metadata": {},
   "source": [
    "### `x[i=1:5, j=1:5]`"
   ]
  },
  {
   "cell_type": "code",
   "execution_count": null,
   "metadata": {},
   "outputs": [],
   "source": [
    "#@macroexpand @variable(m, x[i=1:5, j=1:5])  # Array\n",
    "refcall, idxvars, idxsets, condition = JuMP.buildrefsets(:(x[i=1:5, j=1:5]))\n",
    "containercode, autoduplicatecheck = JuMP.generatecontainer(VariableRef, idxvars, idxsets, :Auto)\n",
    "macro tempmacro()\n",
    "    containercode\n",
    "end\n",
    "@macroexpand @tempmacro "
   ]
  },
  {
   "cell_type": "markdown",
   "metadata": {},
   "source": [
    "### `y[i=set_1, j=1:5], set_1 = Base.OneTo(5)`"
   ]
  },
  {
   "cell_type": "code",
   "execution_count": null,
   "metadata": {},
   "outputs": [],
   "source": [
    "#@macroexpand @variable(m, y[i=set_1, j=1:5]) # Array\n",
    "refcall, idxvars, idxsets, condition = JuMP.buildrefsets(:(y[i=set_1, j=1:5]))\n",
    "containercode, autoduplicatecheck = JuMP.generatecontainer(VariableRef, idxvars, idxsets, :Auto)\n",
    "macro tempmacro()\n",
    "    containercode\n",
    "end\n",
    "@macroexpand @tempmacro "
   ]
  },
  {
   "cell_type": "markdown",
   "metadata": {},
   "source": [
    "### `z[i=1:5, j=set_2], set_2 = 1:5`"
   ]
  },
  {
   "cell_type": "code",
   "execution_count": null,
   "metadata": {},
   "outputs": [],
   "source": [
    "#@macroexpand @variable(m, z1[i=1:5, j=set_2])  # JuMPArray\n",
    "refcall, idxvars, idxsets, condition = JuMP.buildrefsets(:(z[i=1:5, j=set_2]))\n",
    "containercode, autoduplicatecheck = JuMP.generatecontainer(VariableRef, idxvars, idxsets, :Auto)\n",
    "macro tempmacro()\n",
    "    containercode\n",
    "end\n",
    "@macroexpand @tempmacro "
   ]
  },
  {
   "cell_type": "code",
   "execution_count": null,
   "metadata": {},
   "outputs": [],
   "source": [
    "#@macroexpand @variable(m, z2[i=1:5, j=set_2], container = Array) # Array  \n",
    "refcall, idxvars, idxsets, condition = JuMP.buildrefsets(:(z[i=1:5, j=set_2]))\n",
    "containercode, autoduplicatecheck = JuMP.generatecontainer(VariableRef, idxvars, idxsets, :Array)\n",
    "macro tempmacro()\n",
    "    containercode\n",
    "end\n",
    "@macroexpand @tempmacro "
   ]
  },
  {
   "cell_type": "code",
   "execution_count": null,
   "metadata": {},
   "outputs": [],
   "source": [
    "@code_typed JuMP.validarrayindexset(set_2)"
   ]
  },
  {
   "cell_type": "code",
   "execution_count": null,
   "metadata": {},
   "outputs": [],
   "source": [
    "methods(JuMP.validarrayindexset)"
   ]
  },
  {
   "cell_type": "code",
   "execution_count": null,
   "metadata": {},
   "outputs": [],
   "source": [
    "@code_typed JuMP.validarrayindexset(set_1)"
   ]
  },
  {
   "cell_type": "markdown",
   "metadata": {},
   "source": [
    "### `zz[i=1:5, j=a:5], a = 1`"
   ]
  },
  {
   "cell_type": "code",
   "execution_count": null,
   "metadata": {},
   "outputs": [],
   "source": [
    "#@macroexpand @variable(m, zz1[i=1:5, j=a:5])  # JuMPArray\n",
    "refcall, idxvars, idxsets, condition = JuMP.buildrefsets(:(zz1[i=1:5, j=a:5]))\n",
    "containercode, autoduplicatecheck = JuMP.generatecontainer(VariableRef, idxvars, idxsets, :Auto)\n",
    "macro tempmacro()\n",
    "    containercode\n",
    "end\n",
    "@macroexpand @tempmacro "
   ]
  },
  {
   "cell_type": "code",
   "execution_count": null,
   "metadata": {},
   "outputs": [],
   "source": [
    "#@macroexpand @variable(m, zz1[i=1:5, j=a:5], container = Array)   # Array\n",
    "refcall, idxvars, idxsets, condition = JuMP.buildrefsets(:(zz1[i=1:5, j=a:5]))\n",
    "containercode, autoduplicatecheck = JuMP.generatecontainer(VariableRef, idxvars, idxsets, :Array)\n",
    "macro tempmacro()\n",
    "    containercode\n",
    "end\n",
    "@macroexpand @tempmacro "
   ]
  },
  {
   "cell_type": "code",
   "execution_count": null,
   "metadata": {},
   "outputs": [],
   "source": [
    "@code_typed JuMP.validarrayindexset(a:5)"
   ]
  },
  {
   "cell_type": "markdown",
   "metadata": {},
   "source": [
    "### Warning: Testing with JuMP.validarrayindexset may **NOT** be **type stable**"
   ]
  },
  {
   "cell_type": "code",
   "execution_count": null,
   "metadata": {},
   "outputs": [],
   "source": [
    "function getmyvariables(m,set)\n",
    "    @variable(m,[set])\n",
    "end"
   ]
  },
  {
   "cell_type": "code",
   "execution_count": null,
   "metadata": {},
   "outputs": [],
   "source": [
    "function getmyvariableswithtesting(m,set)\n",
    "    if JuMP.validarrayindexset(set)\n",
    "        return @variable(m,[set],container=Array)\n",
    "    else\n",
    "        return @variable(m,[set])\n",
    "    end\n",
    "end"
   ]
  },
  {
   "cell_type": "code",
   "execution_count": null,
   "metadata": {},
   "outputs": [],
   "source": [
    "tempbuff = IOBuffer()\n",
    "code_warntype(tempbuff,getmyvariableswithtesting,Tuple{typeof(m),typeof(set_1)})\n",
    "seekstart(tempbuff)\n",
    "print(readlines(tempbuff)[end])"
   ]
  },
  {
   "cell_type": "code",
   "execution_count": null,
   "metadata": {},
   "outputs": [],
   "source": [
    "tempbuff = IOBuffer()\n",
    "code_warntype(tempbuff,getmyvariableswithtesting,Tuple{typeof(m),typeof(set_2)})\n",
    "seekstart(tempbuff)\n",
    "print(readlines(tempbuff)[end])"
   ]
  },
  {
   "cell_type": "code",
   "execution_count": null,
   "metadata": {},
   "outputs": [],
   "source": [
    "tempbuff = IOBuffer()\n",
    "code_warntype(tempbuff,getmyvariables,Tuple{typeof(m),typeof(set_2)})\n",
    "seekstart(tempbuff)\n",
    "print(readlines(tempbuff)[end])"
   ]
  },
  {
   "cell_type": "markdown",
   "metadata": {},
   "source": [
    "**Note:** `@variable` should always be type stable: "
   ]
  },
  {
   "cell_type": "code",
   "execution_count": null,
   "metadata": {},
   "outputs": [],
   "source": [
    "function getmyvariablesarray(m,set)\n",
    "    @variable(m,[set], container=Array)\n",
    "end"
   ]
  },
  {
   "cell_type": "code",
   "execution_count": null,
   "metadata": {},
   "outputs": [],
   "source": [
    "tempbuff = IOBuffer()\n",
    "code_warntype(tempbuff,getmyvariablesarray,Tuple{typeof(m),typeof(set_1)})\n",
    "seekstart(tempbuff)\n",
    "print(readlines(tempbuff)[end])"
   ]
  },
  {
   "cell_type": "code",
   "execution_count": null,
   "metadata": {},
   "outputs": [],
   "source": [
    "tempbuff = IOBuffer()\n",
    "code_warntype(tempbuff,getmyvariablesarray,Tuple{typeof(m),typeof(set_2)})\n",
    "seekstart(tempbuff)\n",
    "print(readlines(tempbuff)[end])"
   ]
  },
  {
   "cell_type": "code",
   "execution_count": null,
   "metadata": {},
   "outputs": [],
   "source": [
    "tempbuff = IOBuffer()\n",
    "code_warntype(tempbuff,getmyvariablesarray,Tuple{typeof(m),typeof(set_3)})\n",
    "seekstart(tempbuff)\n",
    "print(readlines(tempbuff)[end])"
   ]
  },
  {
   "cell_type": "code",
   "execution_count": null,
   "metadata": {},
   "outputs": [],
   "source": [
    "@code_warntype getmyvariablesarray(m,set_3)"
   ]
  },
  {
   "cell_type": "markdown",
   "metadata": {
    "slideshow": {
     "slide_type": "slide"
    }
   },
   "source": [
    "# More Type Instability Warnings"
   ]
  },
  {
   "cell_type": "markdown",
   "metadata": {
    "collapsed": true
   },
   "source": [
    "cf. https://github.com/JuliaOpt/JuMP.jl/pull/1348"
   ]
  },
  {
   "cell_type": "code",
   "execution_count": null,
   "metadata": {},
   "outputs": [],
   "source": [
    "using ECOS\n",
    "model = Model(with_optimizer(ECOS.ECOSOptimizer))\n",
    "@variable(model, x[i=1:5,j=1:5]) "
   ]
  },
  {
   "cell_type": "code",
   "execution_count": null,
   "metadata": {},
   "outputs": [],
   "source": [
    "@constraint(m, x in MOI.SecondOrderCone(5))"
   ]
  },
  {
   "cell_type": "code",
   "execution_count": null,
   "metadata": {},
   "outputs": [],
   "source": [
    "function addmyconstraints(model,x)\n",
    "    n,m = size(x)\n",
    "    @constraint(model,[i=1:n], x[i,:] in MOI.SecondOrderCone(m))\n",
    "end"
   ]
  },
  {
   "cell_type": "code",
   "execution_count": null,
   "metadata": {},
   "outputs": [],
   "source": [
    "addmyconstraints(model,x)"
   ]
  },
  {
   "cell_type": "code",
   "execution_count": null,
   "metadata": {},
   "outputs": [],
   "source": [
    "@code_warntype addmyconstraints(model,x)"
   ]
  },
  {
   "cell_type": "code",
   "execution_count": null,
   "metadata": {},
   "outputs": [],
   "source": [
    "function addmyconstraintstype(model,x,consttype)\n",
    "    n,m = size(x)\n",
    "    constraints = (x -> x ? MOI.SecondOrderCone(m) : MOI.RotatedSecondOrderCone(m)).(consttype)\n",
    "    @constraint(model,[i=1:n], x[i,:] in constraints[i])\n",
    "end"
   ]
  },
  {
   "cell_type": "code",
   "execution_count": null,
   "metadata": {},
   "outputs": [],
   "source": [
    "consttype = rand([true,false],5)"
   ]
  },
  {
   "cell_type": "code",
   "execution_count": null,
   "metadata": {},
   "outputs": [],
   "source": [
    "@code_warntype addmyconstraintstype(model,x,consttype)"
   ]
  },
  {
   "cell_type": "code",
   "execution_count": null,
   "metadata": {},
   "outputs": [],
   "source": [
    " "
   ]
  }
 ],
 "metadata": {
  "celltoolbar": "Slideshow",
  "kernelspec": {
   "display_name": "Julia 0.6.2",
   "language": "julia",
   "name": "julia-0.6"
  },
  "language_info": {
   "file_extension": ".jl",
   "mimetype": "application/julia",
   "name": "julia",
   "version": "0.6.2"
  },
  "rise": {
   "scroll": true
  }
 },
 "nbformat": 4,
 "nbformat_minor": 2
}
