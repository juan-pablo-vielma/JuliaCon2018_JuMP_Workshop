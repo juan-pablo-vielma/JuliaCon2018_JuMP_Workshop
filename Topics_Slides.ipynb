{
 "cells": [
  {
   "cell_type": "markdown",
   "metadata": {
    "slideshow": {
     "slide_type": "slide"
    }
   },
   "source": [
    "# The JuMP ecosystem for mathematical optimization: Topics\n",
    "\n",
    "## JuliaCon 2018\n",
    "\n",
    "## Juan Pablo Vielma\n",
    "## MIT Sloan"
   ]
  },
  {
   "cell_type": "code",
   "execution_count": 1,
   "metadata": {},
   "outputs": [
    {
     "name": "stdout",
     "output_type": "stream",
     "text": [
      "\u001b[32m\u001b[1m  Updating\u001b[22m\u001b[39m registry at `~/.julia/registries/General`\n",
      "\u001b[32m\u001b[1m  Updating\u001b[22m\u001b[39m git-repo `https://github.com/JuliaRegistries/General.git`\n",
      "\u001b[?25l\u001b[2K\u001b[?25h"
     ]
    }
   ],
   "source": [
    "import Pkg\n",
    "Pkg.activate(@__DIR__)\n",
    "Pkg.instantiate()"
   ]
  },
  {
   "cell_type": "code",
   "execution_count": 2,
   "metadata": {},
   "outputs": [],
   "source": [
    "using JuMP  \n",
    "using MathOptInterface # Replaces MathProgBase\n",
    "# shortcuts\n",
    "const MOI = MathOptInterface\n",
    "const MOIU = MathOptInterface.Utilities\n",
    "\n",
    "using GLPK # Loading the GLPK module for using its solver\n",
    "#using Compat"
   ]
  },
  {
   "cell_type": "markdown",
   "metadata": {
    "slideshow": {
     "slide_type": "slide"
    }
   },
   "source": [
    "# Duality"
   ]
  },
  {
   "cell_type": "code",
   "execution_count": 3,
   "metadata": {},
   "outputs": [
    {
     "name": "stdout",
     "output_type": "stream",
     "text": [
      "JuMP.termination_status(model) == MOI.OPTIMAL = true\n",
      "JuMP.dual_status(model) == MOI.FEASIBLE_POINT = true\n",
      "JuMP.dual(inequality) = -2.0\n"
     ]
    },
    {
     "data": {
      "text/plain": [
       "-2.0"
      ]
     },
     "execution_count": 3,
     "metadata": {},
     "output_type": "execute_result"
    }
   ],
   "source": [
    "model = Model(with_optimizer(GLPK.Optimizer))\n",
    "@variable(model, x >= 0)\n",
    "@variable(model, y >= 0)\n",
    "@constraint(model,inequality, x + y <= 1)         \n",
    "@objective(model, Max, x + 2y)\n",
    "JuMP.optimize!(model)\n",
    "@show JuMP.termination_status(model) == MOI.OPTIMAL\n",
    "@show JuMP.dual_status(model) == MOI.FEASIBLE_POINT\n",
    "@show JuMP.dual(inequality)"
   ]
  },
  {
   "cell_type": "markdown",
   "metadata": {
    "slideshow": {
     "slide_type": "fragment"
    }
   },
   "source": [
    "Also duals for variable bounds."
   ]
  },
  {
   "cell_type": "code",
   "execution_count": 4,
   "metadata": {},
   "outputs": [
    {
     "name": "stdout",
     "output_type": "stream",
     "text": [
      "JuMP.dual(JuMP.LowerBoundRef(x)) = 1.0\n",
      "JuMP.dual(JuMP.LowerBoundRef(y)) = 0.0\n"
     ]
    },
    {
     "data": {
      "text/plain": [
       "0.0"
      ]
     },
     "execution_count": 4,
     "metadata": {},
     "output_type": "execute_result"
    }
   ],
   "source": [
    "@show JuMP.dual(JuMP.LowerBoundRef(x))\n",
    "@show JuMP.dual(JuMP.LowerBoundRef(y))"
   ]
  },
  {
   "cell_type": "markdown",
   "metadata": {},
   "source": [
    "For sign conventions and precise definition of \"dual\" problem see [Duality](http://www.juliaopt.org/MathOptInterface.jl/stable/apimanual#Duals-1) in [MOI Manual](http://www.juliaopt.org/MathOptInterface.jl/stable)"
   ]
  },
  {
   "cell_type": "markdown",
   "metadata": {
    "collapsed": true,
    "slideshow": {
     "slide_type": "slide"
    }
   },
   "source": [
    "# More on JuMP Containers"
   ]
  },
  {
   "cell_type": "code",
   "execution_count": 5,
   "metadata": {},
   "outputs": [],
   "source": [
    "model = Model(with_optimizer(GLPK.Optimizer))\n",
    "@variable(model, x[1:5, 1:5])            # Array   <=> @variable(model, x[i=1:5, j=1:5], container = Auto)\n",
    "set_1 = Base.OneTo(5)\n",
    "@variable(model, y[set_1, 1:5])          # Array\n",
    "set_2 = 1:5\n",
    "@variable(model, z[1:5, set_2])          # DenseAxisArray\n",
    "@variable(model, z2[i=1:5, j=set_2], container = Array)  # Array\n",
    "a = 1\n",
    "@variable(model, zz1[i=1:5, j=a:5])                      # DenseAxisArray\n",
    "@variable(model, zz2[i=1:5, j=a:5], container = Array)   # Array\n",
    "set_3 = [:a, :b, :c]\n",
    "@variable(model, w[set_2, set_3])        # DenseAxisArray\n",
    "@variable(model, t[i=set_2, 1:i])        # SparseAxisArray\n",
    "@variable(model, h[i = 1:5; isodd(i)]);  # SparseAxisArray"
   ]
  },
  {
   "cell_type": "markdown",
   "metadata": {},
   "source": [
    "Auto chooses the tightest applicable container based on compile-time information only and is **type stable**"
   ]
  },
  {
   "cell_type": "markdown",
   "metadata": {},
   "source": [
    "### `x[i=1:5, j=1:5]`"
   ]
  },
  {
   "cell_type": "code",
   "execution_count": 6,
   "metadata": {},
   "outputs": [
    {
     "name": "stdout",
     "output_type": "stream",
     "text": [
      "idxvars = Any[:i, :j]\n",
      "idxsets = Any[:($(Expr(:escape, :(1:5)))), :($(Expr(:escape, :(1:5))))]\n"
     ]
    },
    {
     "data": {
      "text/plain": [
       ":((Main.Array){VariableRef}(Main.undef, ((Main.length)(1:5), (Main.length)(1:5))...))"
      ]
     },
     "execution_count": 6,
     "metadata": {},
     "output_type": "execute_result"
    }
   ],
   "source": [
    "#@macroexpand @variable(model, x[i=1:5, j=1:5])  # Array\n",
    "using JuMP.Containers\n",
    "refcall, idxvars, idxsets, condition = JuMP._build_ref_sets(:(x[i=1:5, j=1:5]))\n",
    "@show idxvars\n",
    "@show idxsets\n",
    "containercode, autoduplicatecheck = Containers.generate_container(VariableRef, idxvars, idxsets, :Auto)\n",
    "macro tempmacro()\n",
    "    containercode\n",
    "end\n",
    "@macroexpand @tempmacro "
   ]
  },
  {
   "cell_type": "code",
   "execution_count": 7,
   "metadata": {},
   "outputs": [
    {
     "data": {
      "text/plain": [
       "(:(Array{VariableRef}(undef, (length(1:5), length(1:5))...)), true)"
      ]
     },
     "execution_count": 7,
     "metadata": {},
     "output_type": "execute_result"
    }
   ],
   "source": [
    "containercode, autoduplicatecheck = Containers.generate_container(VariableRef, [:i,:j], [:(1:5), :(1:5)], :Auto)"
   ]
  },
  {
   "cell_type": "markdown",
   "metadata": {},
   "source": [
    "### `y[i=set_1, j=1:5], set_1 = Base.OneTo(5)`"
   ]
  },
  {
   "cell_type": "code",
   "execution_count": 8,
   "metadata": {},
   "outputs": [
    {
     "data": {
      "text/plain": [
       ":(if $(Expr(:&&, :(set_1 isa (Main.Base).OneTo)))\n",
       "      #= /Users/jvielma/.julia/packages/JuMP/jnmGG/src/Containers/generate_container.jl:142 =#\n",
       "      (Main.Array){VariableRef}(Main.undef, ((Main.length)(set_1), (Main.length)(1:5))...)\n",
       "  else\n",
       "      #= /Users/jvielma/.julia/packages/JuMP/jnmGG/src/Containers/generate_container.jl:142 =#\n",
       "      ((Main.JuMP).Containers).DenseAxisArray{VariableRef}(Main.undef, set_1, 1:5)\n",
       "  end)"
      ]
     },
     "execution_count": 8,
     "metadata": {},
     "output_type": "execute_result"
    }
   ],
   "source": [
    "#@macroexpand @variable(model, y[i=set_1, j=1:5]) # Array\n",
    "refcall, idxvars, idxsets, condition = JuMP._build_ref_sets(:(y[i=set_1, j=1:5]))\n",
    "containercode, autoduplicatecheck = Containers.generate_container(VariableRef, idxvars, idxsets, :Auto)\n",
    "macro tempmacro()\n",
    "    containercode\n",
    "end\n",
    "@macroexpand @tempmacro "
   ]
  },
  {
   "cell_type": "code",
   "execution_count": 9,
   "metadata": {},
   "outputs": [
    {
     "data": {
      "text/plain": [
       "true"
      ]
     },
     "execution_count": 9,
     "metadata": {},
     "output_type": "execute_result"
    }
   ],
   "source": [
    "set_1 isa (Main.Base).OneTo"
   ]
  },
  {
   "cell_type": "markdown",
   "metadata": {},
   "source": [
    "### `z[i=1:5, j=set_2], set_2 = 1:5`"
   ]
  },
  {
   "cell_type": "code",
   "execution_count": 10,
   "metadata": {},
   "outputs": [
    {
     "data": {
      "text/plain": [
       ":(if $(Expr(:&&, :(set_2 isa (Main.Base).OneTo)))\n",
       "      #= /Users/jvielma/.julia/packages/JuMP/jnmGG/src/Containers/generate_container.jl:142 =#\n",
       "      (Main.Array){VariableRef}(Main.undef, ((Main.length)(1:5), (Main.length)(set_2))...)\n",
       "  else\n",
       "      #= /Users/jvielma/.julia/packages/JuMP/jnmGG/src/Containers/generate_container.jl:142 =#\n",
       "      ((Main.JuMP).Containers).DenseAxisArray{VariableRef}(Main.undef, 1:5, set_2)\n",
       "  end)"
      ]
     },
     "execution_count": 10,
     "metadata": {},
     "output_type": "execute_result"
    }
   ],
   "source": [
    "#@macroexpand @variable(model, z1[i=1:5, j=set_2])  # DenseAxisArray\n",
    "refcall, idxvars, idxsets, condition = JuMP._build_ref_sets(:(z[i=1:5, j=set_2]))\n",
    "containercode, autoduplicatecheck = Containers.generate_container(VariableRef, idxvars, idxsets, :Auto)\n",
    "macro tempmacro()\n",
    "    containercode\n",
    "end\n",
    "@macroexpand @tempmacro "
   ]
  },
  {
   "cell_type": "code",
   "execution_count": 11,
   "metadata": {},
   "outputs": [
    {
     "data": {
      "text/plain": [
       "false"
      ]
     },
     "execution_count": 11,
     "metadata": {},
     "output_type": "execute_result"
    }
   ],
   "source": [
    "set_2 isa (Main.Base).OneTo"
   ]
  },
  {
   "cell_type": "code",
   "execution_count": 12,
   "metadata": {},
   "outputs": [
    {
     "data": {
      "text/plain": [
       "quote\n",
       "    $(Expr(:&&, :(((Main.JuMP).Containers).valid_array_index_set(set_2)))) || (Main.error)(\"Index set for array is not one-based interval.\")\n",
       "    #= /Users/jvielma/.julia/packages/JuMP/jnmGG/src/Containers/generate_container.jl:116 =#\n",
       "    (Main.Array){VariableRef}(Main.undef, ((Main.length)(1:5), (Main.length)(set_2))...)\n",
       "end"
      ]
     },
     "execution_count": 12,
     "metadata": {},
     "output_type": "execute_result"
    }
   ],
   "source": [
    "#@macroexpand @variable(model, z2[i=1:5, j=set_2], container = Array) # Array  \n",
    "refcall, idxvars, idxsets, condition = JuMP._build_ref_sets(:(z[i=1:5, j=set_2]))\n",
    "containercode, autoduplicatecheck = Containers.generate_container(VariableRef, idxvars, idxsets, :Array)\n",
    "macro tempmacro()\n",
    "    containercode\n",
    "end\n",
    "@macroexpand @tempmacro "
   ]
  },
  {
   "cell_type": "code",
   "execution_count": 13,
   "metadata": {},
   "outputs": [
    {
     "data": {
      "text/plain": [
       "true"
      ]
     },
     "execution_count": 13,
     "metadata": {},
     "output_type": "execute_result"
    }
   ],
   "source": [
    "Containers.valid_array_index_set(set_2)"
   ]
  },
  {
   "cell_type": "code",
   "execution_count": 14,
   "metadata": {},
   "outputs": [
    {
     "data": {
      "text/plain": [
       "CodeInfo(\n",
       "\u001b[90m1 ─\u001b[39m %1 = (Base.getfield)(r, :start)\u001b[36m::Int64\u001b[39m\n",
       "\u001b[90m│  \u001b[39m %2 = (%1 === 1)\u001b[36m::Bool\u001b[39m\n",
       "\u001b[90m└──\u001b[39m      return %2\n",
       ") => Bool"
      ]
     },
     "execution_count": 14,
     "metadata": {},
     "output_type": "execute_result"
    }
   ],
   "source": [
    "@code_typed Containers.valid_array_index_set(set_2)"
   ]
  },
  {
   "cell_type": "code",
   "execution_count": 15,
   "metadata": {},
   "outputs": [
    {
     "data": {
      "text/html": [
       "3 methods for generic function <b>valid_array_index_set</b>:<ul><li> valid_array_index_set(::<b>Base.OneTo</b>) in JuMP.Containers at <a href=\"file:///Users/jvielma/.julia/packages/JuMP/jnmGG/src/Containers/generate_container.jl\" target=\"_blank\">/Users/jvielma/.julia/packages/JuMP/jnmGG/src/Containers/generate_container.jl:36</a></li> <li> valid_array_index_set(r::<b>UnitRange</b>) in JuMP.Containers at <a href=\"file:///Users/jvielma/.julia/packages/JuMP/jnmGG/src/Containers/generate_container.jl\" target=\"_blank\">/Users/jvielma/.julia/packages/JuMP/jnmGG/src/Containers/generate_container.jl:37</a></li> <li> valid_array_index_set(s) in JuMP.Containers at <a href=\"file:///Users/jvielma/.julia/packages/JuMP/jnmGG/src/Containers/generate_container.jl\" target=\"_blank\">/Users/jvielma/.julia/packages/JuMP/jnmGG/src/Containers/generate_container.jl:38</a></li> </ul>"
      ],
      "text/plain": [
       "# 3 methods for generic function \"valid_array_index_set\":\n",
       "[1] valid_array_index_set(::Base.OneTo) in JuMP.Containers at /Users/jvielma/.julia/packages/JuMP/jnmGG/src/Containers/generate_container.jl:36\n",
       "[2] valid_array_index_set(r::UnitRange) in JuMP.Containers at /Users/jvielma/.julia/packages/JuMP/jnmGG/src/Containers/generate_container.jl:37\n",
       "[3] valid_array_index_set(s) in JuMP.Containers at /Users/jvielma/.julia/packages/JuMP/jnmGG/src/Containers/generate_container.jl:38"
      ]
     },
     "execution_count": 15,
     "metadata": {},
     "output_type": "execute_result"
    }
   ],
   "source": [
    "methods(Containers.valid_array_index_set)"
   ]
  },
  {
   "cell_type": "code",
   "execution_count": 43,
   "metadata": {},
   "outputs": [
    {
     "data": {
      "text/plain": [
       "CodeInfo(\n",
       "\u001b[90m1 ─\u001b[39m     return true\n",
       ") => Bool"
      ]
     },
     "execution_count": 43,
     "metadata": {},
     "output_type": "execute_result"
    }
   ],
   "source": [
    "@code_typed Containers.valid_array_index_set(set_1)"
   ]
  },
  {
   "cell_type": "markdown",
   "metadata": {},
   "source": [
    "### `zz[i=1:5, j=a:5], a = 1`"
   ]
  },
  {
   "cell_type": "code",
   "execution_count": 16,
   "metadata": {},
   "outputs": [
    {
     "data": {
      "text/plain": [
       ":(if $(Expr(:&&, :(a:5 isa (Main.Base).OneTo)))\n",
       "      #= /Users/jvielma/.julia/packages/JuMP/jnmGG/src/Containers/generate_container.jl:142 =#\n",
       "      (Main.Array){VariableRef}(Main.undef, ((Main.length)(1:5), (Main.length)(a:5))...)\n",
       "  else\n",
       "      #= /Users/jvielma/.julia/packages/JuMP/jnmGG/src/Containers/generate_container.jl:142 =#\n",
       "      ((Main.JuMP).Containers).DenseAxisArray{VariableRef}(Main.undef, 1:5, a:5)\n",
       "  end)"
      ]
     },
     "execution_count": 16,
     "metadata": {},
     "output_type": "execute_result"
    }
   ],
   "source": [
    "#@macroexpand @variable(model, zz1[i=1:5, j=a:5])  # DenseAxisArray\n",
    "refcall, idxvars, idxsets, condition = JuMP._build_ref_sets(:(zz1[i=1:5, j=a:5]))\n",
    "containercode, autoduplicatecheck = Containers.generate_container(VariableRef, idxvars, idxsets, :Auto)\n",
    "macro tempmacro()\n",
    "    containercode\n",
    "end\n",
    "@macroexpand @tempmacro "
   ]
  },
  {
   "cell_type": "code",
   "execution_count": 17,
   "metadata": {},
   "outputs": [
    {
     "data": {
      "text/plain": [
       "false"
      ]
     },
     "execution_count": 17,
     "metadata": {},
     "output_type": "execute_result"
    }
   ],
   "source": [
    "a:5 isa (Main.Base).OneTo"
   ]
  },
  {
   "cell_type": "code",
   "execution_count": 18,
   "metadata": {},
   "outputs": [
    {
     "data": {
      "text/plain": [
       "quote\n",
       "    $(Expr(:&&, :(((Main.JuMP).Containers).valid_array_index_set(a:5)))) || (Main.error)(\"Index set for array is not one-based interval.\")\n",
       "    #= /Users/jvielma/.julia/packages/JuMP/jnmGG/src/Containers/generate_container.jl:116 =#\n",
       "    (Main.Array){VariableRef}(Main.undef, ((Main.length)(1:5), (Main.length)(a:5))...)\n",
       "end"
      ]
     },
     "execution_count": 18,
     "metadata": {},
     "output_type": "execute_result"
    }
   ],
   "source": [
    "#@macroexpand @variable(m, zz1[i=1:5, j=a:5], container = Array)   # Array\n",
    "refcall, idxvars, idxsets, condition = JuMP._build_ref_sets(:(zz1[i=1:5, j=a:5]))\n",
    "containercode, autoduplicatecheck = Containers.generate_container(VariableRef, idxvars, idxsets, :Array)\n",
    "macro tempmacro()\n",
    "    containercode\n",
    "end\n",
    "@macroexpand @tempmacro "
   ]
  },
  {
   "cell_type": "code",
   "execution_count": 19,
   "metadata": {},
   "outputs": [
    {
     "data": {
      "text/plain": [
       "true"
      ]
     },
     "execution_count": 19,
     "metadata": {},
     "output_type": "execute_result"
    }
   ],
   "source": [
    "Containers.valid_array_index_set(a:5)"
   ]
  },
  {
   "cell_type": "code",
   "execution_count": 20,
   "metadata": {},
   "outputs": [
    {
     "data": {
      "text/plain": [
       "CodeInfo(\n",
       "\u001b[90m1 ─\u001b[39m %1 = (Base.getfield)(r, :start)\u001b[36m::Int64\u001b[39m\n",
       "\u001b[90m│  \u001b[39m %2 = (%1 === 1)\u001b[36m::Bool\u001b[39m\n",
       "\u001b[90m└──\u001b[39m      return %2\n",
       ") => Bool"
      ]
     },
     "execution_count": 20,
     "metadata": {},
     "output_type": "execute_result"
    }
   ],
   "source": [
    "@code_typed Containers.valid_array_index_set(a:5)"
   ]
  },
  {
   "cell_type": "markdown",
   "metadata": {},
   "source": [
    "### Warning: Testing with Containers.valid_array_index_set may **NOT** be **type stable**"
   ]
  },
  {
   "cell_type": "code",
   "execution_count": 21,
   "metadata": {},
   "outputs": [
    {
     "data": {
      "text/plain": [
       "get_my_variables (generic function with 1 method)"
      ]
     },
     "execution_count": 21,
     "metadata": {},
     "output_type": "execute_result"
    }
   ],
   "source": [
    "function get_my_variables(m,set)\n",
    "    @variable(m,[set])\n",
    "end"
   ]
  },
  {
   "cell_type": "code",
   "execution_count": 22,
   "metadata": {},
   "outputs": [
    {
     "data": {
      "text/plain": [
       "get_my_variables_with_testing (generic function with 1 method)"
      ]
     },
     "execution_count": 22,
     "metadata": {},
     "output_type": "execute_result"
    }
   ],
   "source": [
    "function get_my_variables_with_testing(m,set)\n",
    "    if Containers.valid_array_index_set(set)\n",
    "        return @variable(m,[set],container=Array)\n",
    "    else\n",
    "        return @variable(m,[set])\n",
    "    end\n",
    "end"
   ]
  },
  {
   "cell_type": "markdown",
   "metadata": {},
   "source": [
    "Type stable:"
   ]
  },
  {
   "cell_type": "code",
   "execution_count": 23,
   "metadata": {},
   "outputs": [
    {
     "name": "stdout",
     "output_type": "stream",
     "text": [
      "Body\u001b[36m::Array{VariableRef,1}\u001b[39m\n",
      "\u001b[90m1 ──\u001b[39m       nothing\n",
      "\u001b[90m│   \u001b[39m %2  = (Base.getfield)(set, :stop)\u001b[36m::Int64\u001b[39m\n",
      "\u001b[90m│   \u001b[39m %3  = $(Expr(:foreigncall, :(:jl_alloc_array_1d), Array{VariableRef,1}, svec(Any, Int64), :(:ccall), 2, Array{VariableRef,1}, :(%2), :(%2)))\u001b[36m::Array{VariableRef,1}\u001b[39m\n",
      "\u001b[90m│   \u001b[39m %4  = (Base.getfield)(set, :stop)\u001b[36m::Int64\u001b[39m\n",
      "\u001b[90m│   \u001b[39m %5  = (Base.slt_int)(%4, 1)\u001b[36m::Bool\u001b[39m\n",
      "\u001b[90m└───\u001b[39m       goto #3 if not %5\n",
      "\u001b[90m2 ──\u001b[39m       goto #4\n",
      "\u001b[90m3 ──\u001b[39m       goto #4\n",
      "\u001b[90m4 ┄─\u001b[39m %9  = φ (#2 => true, #3 => false)\u001b[36m::Bool\u001b[39m\n",
      "\u001b[90m│   \u001b[39m %10 = φ (#3 => 1)\u001b[36m::Int64\u001b[39m\n",
      "\u001b[90m│   \u001b[39m %11 = φ (#3 => 1)\u001b[36m::Int64\u001b[39m\n",
      "\u001b[90m│   \u001b[39m %12 = (Base.not_int)(%9)\u001b[36m::Bool\u001b[39m\n",
      "\u001b[90m└───\u001b[39m       goto #20 if not %12\n",
      "\u001b[90m5 ┄─\u001b[39m %14 = φ (#4 => %10, #19 => %38)\u001b[36m::Int64\u001b[39m\n",
      "\u001b[90m│   \u001b[39m %15 = φ (#4 => %11, #19 => %39)\u001b[36m::Int64\u001b[39m\n",
      "\u001b[90m│   \u001b[39m %16 = (Base.sle_int)(1, 1)\u001b[36m::Bool\u001b[39m\n",
      "\u001b[90m└───\u001b[39m       goto #7 if not %16\n",
      "\u001b[90m6 ──\u001b[39m %18 = (Base.sle_int)(1, 0)\u001b[36m::Bool\u001b[39m\n",
      "\u001b[90m└───\u001b[39m       goto #8\n",
      "\u001b[90m7 ──\u001b[39m       nothing\n",
      "\u001b[90m8 ┄─\u001b[39m %21 = φ (#6 => %18, #7 => false)\u001b[36m::Bool\u001b[39m\n",
      "\u001b[90m└───\u001b[39m       goto #10 if not %21\n",
      "\u001b[90m9 ──\u001b[39m       invoke Base.getindex(()::Tuple, 1::Int64)\n",
      "\u001b[90m└───\u001b[39m       $(Expr(:unreachable))\n",
      "\u001b[90m10 ┄\u001b[39m       goto #11\n",
      "\u001b[90m11 ─\u001b[39m       goto #12\n",
      "\u001b[90m12 ─\u001b[39m       goto #13\n",
      "\u001b[90m13 ─\u001b[39m       goto #14\n",
      "\u001b[90m14 ─\u001b[39m       goto #15\n",
      "\u001b[90m15 ─\u001b[39m %30 = invoke JuMP.add_variable(_2::Model, $(QuoteNode(ScalarVariable{Float64,Float64,Float64,Float64}(VariableInfo{Float64,Float64,Float64,Float64}(false, NaN, false, NaN, false, NaN, false, NaN, false, false))))::ScalarVariable{Float64,Float64,Float64,Float64}, \"\"::String)\u001b[36m::VariableRef\u001b[39m\n",
      "\u001b[90m│   \u001b[39m       (Base.arrayset)(true, %3, %30, %14)\n",
      "\u001b[90m│   \u001b[39m %32 = (Base.getfield)(set, :stop)\u001b[36m::Int64\u001b[39m\n",
      "\u001b[90m│   \u001b[39m %33 = (%15 === %32)\u001b[36m::Bool\u001b[39m\n",
      "\u001b[90m└───\u001b[39m       goto #17 if not %33\n",
      "\u001b[90m16 ─\u001b[39m       goto #18\n",
      "\u001b[90m17 ─\u001b[39m %36 = (Base.add_int)(%15, 1)\u001b[36m::Int64\u001b[39m\n",
      "\u001b[90m└───\u001b[39m       goto #18\n",
      "\u001b[90m18 ┄\u001b[39m %38 = φ (#17 => %36)\u001b[36m::Int64\u001b[39m\n",
      "\u001b[90m│   \u001b[39m %39 = φ (#17 => %36)\u001b[36m::Int64\u001b[39m\n",
      "\u001b[90m│   \u001b[39m %40 = φ (#16 => true, #17 => false)\u001b[36m::Bool\u001b[39m\n",
      "\u001b[90m│   \u001b[39m %41 = (Base.not_int)(%40)\u001b[36m::Bool\u001b[39m\n",
      "\u001b[90m└───\u001b[39m       goto #20 if not %41\n",
      "\u001b[90m19 ─\u001b[39m       goto #5\n",
      "\u001b[90m20 ┄\u001b[39m       return %3\n"
     ]
    }
   ],
   "source": [
    "@code_warntype get_my_variables_with_testing(model,set_1)"
   ]
  },
  {
   "cell_type": "markdown",
   "metadata": {},
   "source": [
    "Not type stable:"
   ]
  },
  {
   "cell_type": "code",
   "execution_count": 24,
   "metadata": {},
   "outputs": [
    {
     "name": "stdout",
     "output_type": "stream",
     "text": [
      "Body\u001b[91m\u001b[1m::Union{DenseAxisArray{VariableRef,1,Tuple{UnitRange{Int64}},Tuple{Dict{Int64,Int64}}}, Array{VariableRef,1}}\u001b[22m\u001b[39m\n",
      "\u001b[90m1 ──\u001b[39m %1   = (Base.getfield)(set, :start)\u001b[36m::Int64\u001b[39m\n",
      "\u001b[90m│   \u001b[39m %2   = (%1 === 1)\u001b[36m::Bool\u001b[39m\n",
      "\u001b[90m└───\u001b[39m        goto #31 if not %2\n",
      "\u001b[90m2 ──\u001b[39m %4   = (Base.getfield)(set, :start)\u001b[36m::Int64\u001b[39m\n",
      "\u001b[90m│   \u001b[39m %5   = (%4 === 1)\u001b[36m::Bool\u001b[39m\n",
      "\u001b[90m└───\u001b[39m        goto #30 if not %5\n",
      "\u001b[90m3 ──\u001b[39m        nothing\n",
      "\u001b[90m│   \u001b[39m %8   = (Base.getfield)(set, :stop)\u001b[36m::Int64\u001b[39m\n",
      "\u001b[90m│   \u001b[39m %9   = (Base.getfield)(set, :start)\u001b[36m::Int64\u001b[39m\n",
      "\u001b[90m│   \u001b[39m %10  = (Base.Checked.checked_ssub_int)(%8, %9)\u001b[36m::Tuple{Int64,Bool}\u001b[39m\n",
      "\u001b[90m│   \u001b[39m %11  = (Base.getfield)(%10, 1)\u001b[36m::Int64\u001b[39m\n",
      "\u001b[90m│   \u001b[39m %12  = (Base.getfield)(%10, 2)\u001b[36m::Bool\u001b[39m\n",
      "\u001b[90m└───\u001b[39m        goto #5 if not %12\n",
      "\u001b[90m4 ──\u001b[39m        invoke Base.Checked.throw_overflowerr_binaryop(:-::Symbol, %8::Int64, %9::Int64)\n",
      "\u001b[90m└───\u001b[39m        $(Expr(:unreachable))\n",
      "\u001b[90m5 ┄─\u001b[39m        goto #6\n",
      "\u001b[90m6 ──\u001b[39m %17  = (Base.Checked.checked_sadd_int)(%11, 1)\u001b[36m::Tuple{Int64,Bool}\u001b[39m\n",
      "\u001b[90m│   \u001b[39m %18  = (Base.getfield)(%17, 1)\u001b[36m::Int64\u001b[39m\n",
      "\u001b[90m│   \u001b[39m %19  = (Base.getfield)(%17, 2)\u001b[36m::Bool\u001b[39m\n",
      "\u001b[90m└───\u001b[39m        goto #8 if not %19\n",
      "\u001b[90m7 ──\u001b[39m        invoke Base.Checked.throw_overflowerr_binaryop(:+::Symbol, %11::Int64, 1::Int64)\n",
      "\u001b[90m└───\u001b[39m        $(Expr(:unreachable))\n",
      "\u001b[90m8 ┄─\u001b[39m        goto #9\n",
      "\u001b[90m9 ──\u001b[39m        goto #10\n",
      "\u001b[90m10 ─\u001b[39m %25  = $(Expr(:foreigncall, :(:jl_alloc_array_1d), Array{VariableRef,1}, svec(Any, Int64), :(:ccall), 2, Array{VariableRef,1}, :(%18), :(%18)))\u001b[36m::Array{VariableRef,1}\u001b[39m\n",
      "\u001b[90m│   \u001b[39m %26  = (Base.getfield)(set, :start)\u001b[36m::Int64\u001b[39m\n",
      "\u001b[90m│   \u001b[39m %27  = (Base.getfield)(set, :stop)\u001b[36m::Int64\u001b[39m\n",
      "\u001b[90m│   \u001b[39m %28  = (Base.slt_int)(%27, %26)\u001b[36m::Bool\u001b[39m\n",
      "\u001b[90m└───\u001b[39m        goto #12 if not %28\n",
      "\u001b[90m11 ─\u001b[39m        goto #13\n",
      "\u001b[90m12 ─\u001b[39m %31  = (Base.getfield)(set, :start)\u001b[36m::Int64\u001b[39m\n",
      "\u001b[90m│   \u001b[39m %32  = (Base.getfield)(set, :start)\u001b[36m::Int64\u001b[39m\n",
      "\u001b[90m└───\u001b[39m        goto #13\n",
      "\u001b[90m13 ┄\u001b[39m %34  = φ (#11 => true, #12 => false)\u001b[36m::Bool\u001b[39m\n",
      "\u001b[90m│   \u001b[39m %35  = φ (#12 => %31)\u001b[36m::Int64\u001b[39m\n",
      "\u001b[90m│   \u001b[39m %36  = φ (#12 => %32)\u001b[36m::Int64\u001b[39m\n",
      "\u001b[90m│   \u001b[39m %37  = (Base.not_int)(%34)\u001b[36m::Bool\u001b[39m\n",
      "\u001b[90m└───\u001b[39m        goto #29 if not %37\n",
      "\u001b[90m14 ┄\u001b[39m %39  = φ (#13 => %35, #28 => %63)\u001b[36m::Int64\u001b[39m\n",
      "\u001b[90m│   \u001b[39m %40  = φ (#13 => %36, #28 => %64)\u001b[36m::Int64\u001b[39m\n",
      "\u001b[90m│   \u001b[39m %41  = (Base.sle_int)(1, 1)\u001b[36m::Bool\u001b[39m\n",
      "\u001b[90m└───\u001b[39m        goto #16 if not %41\n",
      "\u001b[90m15 ─\u001b[39m %43  = (Base.sle_int)(1, 0)\u001b[36m::Bool\u001b[39m\n",
      "\u001b[90m└───\u001b[39m        goto #17\n",
      "\u001b[90m16 ─\u001b[39m        nothing\n",
      "\u001b[90m17 ┄\u001b[39m %46  = φ (#15 => %43, #16 => false)\u001b[36m::Bool\u001b[39m\n",
      "\u001b[90m└───\u001b[39m        goto #19 if not %46\n",
      "\u001b[90m18 ─\u001b[39m        invoke Base.getindex(()::Tuple, 1::Int64)\n",
      "\u001b[90m└───\u001b[39m        $(Expr(:unreachable))\n",
      "\u001b[90m19 ┄\u001b[39m        goto #20\n",
      "\u001b[90m20 ─\u001b[39m        goto #21\n",
      "\u001b[90m21 ─\u001b[39m        goto #22\n",
      "\u001b[90m22 ─\u001b[39m        goto #23\n",
      "\u001b[90m23 ─\u001b[39m        goto #24\n",
      "\u001b[90m24 ─\u001b[39m %55  = invoke JuMP.add_variable(_2::Model, $(QuoteNode(ScalarVariable{Float64,Float64,Float64,Float64}(VariableInfo{Float64,Float64,Float64,Float64}(false, NaN, false, NaN, false, NaN, false, NaN, false, false))))::ScalarVariable{Float64,Float64,Float64,Float64}, \"\"::String)\u001b[36m::VariableRef\u001b[39m\n",
      "\u001b[90m│   \u001b[39m        (Base.arrayset)(true, %25, %55, %39)\n",
      "\u001b[90m│   \u001b[39m %57  = (Base.getfield)(set, :stop)\u001b[36m::Int64\u001b[39m\n",
      "\u001b[90m│   \u001b[39m %58  = (%40 === %57)\u001b[36m::Bool\u001b[39m\n",
      "\u001b[90m└───\u001b[39m        goto #26 if not %58\n",
      "\u001b[90m25 ─\u001b[39m        goto #27\n",
      "\u001b[90m26 ─\u001b[39m %61  = (Base.add_int)(%40, 1)\u001b[36m::Int64\u001b[39m\n",
      "\u001b[90m└───\u001b[39m        goto #27\n",
      "\u001b[90m27 ┄\u001b[39m %63  = φ (#26 => %61)\u001b[36m::Int64\u001b[39m\n",
      "\u001b[90m│   \u001b[39m %64  = φ (#26 => %61)\u001b[36m::Int64\u001b[39m\n",
      "\u001b[90m│   \u001b[39m %65  = φ (#25 => true, #26 => false)\u001b[36m::Bool\u001b[39m\n",
      "\u001b[90m│   \u001b[39m %66  = (Base.not_int)(%65)\u001b[36m::Bool\u001b[39m\n",
      "\u001b[90m└───\u001b[39m        goto #29 if not %66\n",
      "\u001b[90m28 ─\u001b[39m        goto #14\n",
      "\u001b[90m29 ┄\u001b[39m        return %25\n",
      "\u001b[90m30 ─\u001b[39m        invoke JuMP.error(\"Index set for array is not one-based interval.\"::String)\n",
      "\u001b[90m└───\u001b[39m        $(Expr(:unreachable))\n",
      "\u001b[90m31 ┄\u001b[39m        goto #33 if not false\n",
      "\u001b[90m32 ─\u001b[39m        nothing\n",
      "\u001b[90m33 ┄\u001b[39m %74  = (Base.getfield)(set, :stop)\u001b[36m::Int64\u001b[39m\n",
      "\u001b[90m│   \u001b[39m %75  = (Base.getfield)(set, :start)\u001b[36m::Int64\u001b[39m\n",
      "\u001b[90m│   \u001b[39m %76  = (Base.Checked.checked_ssub_int)(%74, %75)\u001b[36m::Tuple{Int64,Bool}\u001b[39m\n",
      "\u001b[90m│   \u001b[39m %77  = (Base.getfield)(%76, 1)\u001b[36m::Int64\u001b[39m\n",
      "\u001b[90m│   \u001b[39m %78  = (Base.getfield)(%76, 2)\u001b[36m::Bool\u001b[39m\n",
      "\u001b[90m└───\u001b[39m        goto #35 if not %78\n",
      "\u001b[90m34 ─\u001b[39m        invoke Base.Checked.throw_overflowerr_binaryop(:-::Symbol, %74::Int64, %75::Int64)\n",
      "\u001b[90m└───\u001b[39m        $(Expr(:unreachable))\n",
      "\u001b[90m35 ┄\u001b[39m        goto #36\n",
      "\u001b[90m36 ─\u001b[39m %83  = (Base.Checked.checked_sadd_int)(%77, 1)\u001b[36m::Tuple{Int64,Bool}\u001b[39m\n",
      "\u001b[90m│   \u001b[39m %84  = (Base.getfield)(%83, 1)\u001b[36m::Int64\u001b[39m\n",
      "\u001b[90m│   \u001b[39m %85  = (Base.getfield)(%83, 2)\u001b[36m::Bool\u001b[39m\n",
      "\u001b[90m└───\u001b[39m        goto #38 if not %85\n",
      "\u001b[90m37 ─\u001b[39m        invoke Base.Checked.throw_overflowerr_binaryop(:+::Symbol, %77::Int64, 1::Int64)\n",
      "\u001b[90m└───\u001b[39m        $(Expr(:unreachable))\n",
      "\u001b[90m38 ┄\u001b[39m        goto #39\n",
      "\u001b[90m39 ─\u001b[39m        goto #40\n",
      "\u001b[90m40 ─\u001b[39m        goto #41\n",
      "\u001b[90m41 ─\u001b[39m        goto #42\n",
      "\u001b[90m42 ─\u001b[39m        goto #43\n",
      "\u001b[90m43 ─\u001b[39m        goto #44\n",
      "\u001b[90m44 ─\u001b[39m        goto #45\n",
      "\u001b[90m45 ─\u001b[39m        goto #46\n",
      "\u001b[90m46 ─\u001b[39m %97  = $(Expr(:foreigncall, :(:jl_alloc_array_1d), Array{VariableRef,1}, svec(Any, Int64), :(:ccall), 2, Array{VariableRef,1}, :(%84), :(%84)))\u001b[36m::Array{VariableRef,1}\u001b[39m\n",
      "\u001b[90m│   \u001b[39m %98  = (Core.tuple)(set)\u001b[36m::Tuple{UnitRange{Int64}}\u001b[39m\n",
      "\u001b[90m│   \u001b[39m %99  = invoke JuMP.Containers.build_lookup(_3::UnitRange{Int64})\u001b[36m::Dict{Int64,Int64}\u001b[39m\n",
      "\u001b[90m│   \u001b[39m %100 = (Core.tuple)(%99)\u001b[36m::Tuple{Dict{Int64,Int64}}\u001b[39m\n",
      "\u001b[90m│   \u001b[39m %101 = %new(DenseAxisArray{VariableRef,1,Tuple{UnitRange{Int64}},Tuple{Dict{Int64,Int64}}}, %97, %98, %100)\u001b[36m::DenseAxisArray{VariableRef,1,Tuple{UnitRange{Int64}},Tuple{Dict{Int64,Int64}}}\u001b[39m\n",
      "\u001b[90m└───\u001b[39m        goto #47\n",
      "\u001b[90m47 ─\u001b[39m        goto #48\n",
      "\u001b[90m48 ─\u001b[39m %104 = (Base.getfield)(set, :start)\u001b[36m::Int64\u001b[39m\n",
      "\u001b[90m│   \u001b[39m %105 = (Base.getfield)(set, :stop)\u001b[36m::Int64\u001b[39m\n",
      "\u001b[90m│   \u001b[39m %106 = (Base.slt_int)(%105, %104)\u001b[36m::Bool\u001b[39m\n",
      "\u001b[90m└───\u001b[39m        goto #50 if not %106\n",
      "\u001b[90m49 ─\u001b[39m        goto #51\n",
      "\u001b[90m50 ─\u001b[39m %109 = (Base.getfield)(set, :start)\u001b[36m::Int64\u001b[39m\n",
      "\u001b[90m│   \u001b[39m %110 = (Base.getfield)(set, :start)\u001b[36m::Int64\u001b[39m\n",
      "\u001b[90m└───\u001b[39m        goto #51\n",
      "\u001b[90m51 ┄\u001b[39m %112 = φ (#49 => true, #50 => false)\u001b[36m::Bool\u001b[39m\n",
      "\u001b[90m│   \u001b[39m %113 = φ (#50 => %109)\u001b[36m::Int64\u001b[39m\n",
      "\u001b[90m│   \u001b[39m %114 = φ (#50 => %110)\u001b[36m::Int64\u001b[39m\n",
      "\u001b[90m│   \u001b[39m %115 = (Base.not_int)(%112)\u001b[36m::Bool\u001b[39m\n",
      "\u001b[90m└───\u001b[39m        goto #74 if not %115\n",
      "\u001b[90m52 ┄\u001b[39m %117 = φ (#51 => %113, #73 => %154)\u001b[36m::Int64\u001b[39m\n",
      "\u001b[90m│   \u001b[39m %118 = φ (#51 => %114, #73 => %155)\u001b[36m::Int64\u001b[39m\n",
      "\u001b[90m│   \u001b[39m %119 = (Base.sle_int)(1, 1)\u001b[36m::Bool\u001b[39m\n",
      "\u001b[90m└───\u001b[39m        goto #54 if not %119\n",
      "\u001b[90m53 ─\u001b[39m %121 = (Base.sle_int)(1, 0)\u001b[36m::Bool\u001b[39m\n",
      "\u001b[90m└───\u001b[39m        goto #55\n",
      "\u001b[90m54 ─\u001b[39m        nothing\n",
      "\u001b[90m55 ┄\u001b[39m %124 = φ (#53 => %121, #54 => false)\u001b[36m::Bool\u001b[39m\n",
      "\u001b[90m└───\u001b[39m        goto #57 if not %124\n",
      "\u001b[90m56 ─\u001b[39m        invoke Base.getindex(()::Tuple, 1::Int64)\n",
      "\u001b[90m└───\u001b[39m        $(Expr(:unreachable))\n",
      "\u001b[90m57 ┄\u001b[39m        goto #58\n",
      "\u001b[90m58 ─\u001b[39m        goto #59\n",
      "\u001b[90m59 ─\u001b[39m        goto #60\n",
      "\u001b[90m60 ─\u001b[39m        goto #61\n",
      "\u001b[90m61 ─\u001b[39m        goto #62\n",
      "\u001b[90m62 ─\u001b[39m %133 = invoke JuMP.add_variable(_2::Model, $(QuoteNode(ScalarVariable{Float64,Float64,Float64,Float64}(VariableInfo{Float64,Float64,Float64,Float64}(false, NaN, false, NaN, false, NaN, false, NaN, false, false))))::ScalarVariable{Float64,Float64,Float64,Float64}, \"\"::String)\u001b[36m::VariableRef\u001b[39m\n",
      "\u001b[90m│   \u001b[39m %134 = invoke Base.ht_keyindex(%99::Dict{Int64,Int64}, %117::Int64)\u001b[36m::Int64\u001b[39m\n",
      "\u001b[90m│   \u001b[39m %135 = (Base.slt_int)(%134, 0)\u001b[36m::Bool\u001b[39m\n",
      "\u001b[90m└───\u001b[39m        goto #64 if not %135\n",
      "\u001b[90m63 ─\u001b[39m %137 = %new(Base.KeyError, %117)\u001b[36m::KeyError\u001b[39m\n",
      "\u001b[90m│   \u001b[39m        (Base.throw)(%137)\n",
      "\u001b[90m└───\u001b[39m        $(Expr(:unreachable))\n",
      "\u001b[90m64 ┄\u001b[39m %140 = (Base.getfield)(%99, :vals)\u001b[36m::Array{Int64,1}\u001b[39m\n",
      "\u001b[90m│   \u001b[39m %141 = (Base.arrayref)(false, %140, %134)\u001b[36m::Int64\u001b[39m\n",
      "\u001b[90m└───\u001b[39m        goto #65\n",
      "\u001b[90m65 ─\u001b[39m        goto #66\n",
      "\u001b[90m66 ─\u001b[39m        goto #67\n",
      "\u001b[90m67 ─\u001b[39m        goto #68\n",
      "\u001b[90m68 ─\u001b[39m        (Base.arrayset)(true, %97, %133, %141)\n",
      "\u001b[90m└───\u001b[39m        goto #69\n",
      "\u001b[90m69 ─\u001b[39m %148 = (Base.getfield)(set, :stop)\u001b[36m::Int64\u001b[39m\n",
      "\u001b[90m│   \u001b[39m %149 = (%118 === %148)\u001b[36m::Bool\u001b[39m\n",
      "\u001b[90m└───\u001b[39m        goto #71 if not %149\n",
      "\u001b[90m70 ─\u001b[39m        goto #72\n",
      "\u001b[90m71 ─\u001b[39m %152 = (Base.add_int)(%118, 1)\u001b[36m::Int64\u001b[39m\n",
      "\u001b[90m└───\u001b[39m        goto #72\n",
      "\u001b[90m72 ┄\u001b[39m %154 = φ (#71 => %152)\u001b[36m::Int64\u001b[39m\n",
      "\u001b[90m│   \u001b[39m %155 = φ (#71 => %152)\u001b[36m::Int64\u001b[39m\n",
      "\u001b[90m│   \u001b[39m %156 = φ (#70 => true, #71 => false)\u001b[36m::Bool\u001b[39m\n",
      "\u001b[90m│   \u001b[39m %157 = (Base.not_int)(%156)\u001b[36m::Bool\u001b[39m\n",
      "\u001b[90m└───\u001b[39m        goto #74 if not %157\n",
      "\u001b[90m73 ─\u001b[39m        goto #52\n",
      "\u001b[90m74 ┄\u001b[39m        return %101\n"
     ]
    }
   ],
   "source": [
    "@code_warntype get_my_variables_with_testing(model,set_2)"
   ]
  },
  {
   "cell_type": "markdown",
   "metadata": {},
   "source": [
    "Type stable:"
   ]
  },
  {
   "cell_type": "code",
   "execution_count": 25,
   "metadata": {},
   "outputs": [
    {
     "name": "stdout",
     "output_type": "stream",
     "text": [
      "Body\u001b[36m::DenseAxisArray{VariableRef,1,Tuple{Array{Symbol,1}},Tuple{Dict{Symbol,Int64}}}\u001b[39m\n",
      "\u001b[90m1 ──\u001b[39m       goto #3 if not false\n",
      "\u001b[90m2 ──\u001b[39m       nothing\n",
      "\u001b[90m3 ┄─\u001b[39m       goto #5 if not false\n",
      "\u001b[90m4 ──\u001b[39m       nothing\n",
      "\u001b[90m5 ┄─\u001b[39m %5  = (Base.arraylen)(set)\u001b[36m::Int64\u001b[39m\n",
      "\u001b[90m│   \u001b[39m %6  = $(Expr(:foreigncall, :(:jl_alloc_array_1d), Array{VariableRef,1}, svec(Any, Int64), :(:ccall), 2, Array{VariableRef,1}, :(%5), :(%5)))\u001b[36m::Array{VariableRef,1}\u001b[39m\n",
      "\u001b[90m│   \u001b[39m %7  = (Core.tuple)(set)\u001b[36m::Tuple{Array{Symbol,1}}\u001b[39m\n",
      "\u001b[90m│   \u001b[39m %8  = invoke JuMP.Containers.build_lookup(_3::Array{Symbol,1})\u001b[36m::Dict{Symbol,Int64}\u001b[39m\n",
      "\u001b[90m│   \u001b[39m %9  = (Core.tuple)(%8)\u001b[36m::Tuple{Dict{Symbol,Int64}}\u001b[39m\n",
      "\u001b[90m│   \u001b[39m %10 = %new(DenseAxisArray{VariableRef,1,Tuple{Array{Symbol,1}},Tuple{Dict{Symbol,Int64}}}, %6, %7, %9)\u001b[36m::DenseAxisArray{VariableRef,1,Tuple{Array{Symbol,1}},Tuple{Dict{Symbol,Int64}}}\u001b[39m\n",
      "\u001b[90m│   \u001b[39m %11 = (Base.arraylen)(set)\u001b[36m::Int64\u001b[39m\n",
      "\u001b[90m│   \u001b[39m %12 = (Base.sle_int)(0, %11)\u001b[36m::Bool\u001b[39m\n",
      "\u001b[90m│   \u001b[39m %13 = (Base.bitcast)(UInt64, %11)\u001b[36m::UInt64\u001b[39m\n",
      "\u001b[90m│   \u001b[39m %14 = (Base.ult_int)(0x0000000000000000, %13)\u001b[36m::Bool\u001b[39m\n",
      "\u001b[90m│   \u001b[39m %15 = (Base.and_int)(%12, %14)\u001b[36m::Bool\u001b[39m\n",
      "\u001b[90m└───\u001b[39m       goto #7 if not %15\n",
      "\u001b[90m6 ──\u001b[39m %17 = (Base.arrayref)(false, set, 1)\u001b[36m::Symbol\u001b[39m\n",
      "\u001b[90m└───\u001b[39m       goto #8\n",
      "\u001b[90m7 ──\u001b[39m       goto #8\n",
      "\u001b[90m8 ┄─\u001b[39m %20 = φ (#6 => false, #7 => true)\u001b[36m::Bool\u001b[39m\n",
      "\u001b[90m│   \u001b[39m %21 = φ (#6 => %17)\u001b[36m::Symbol\u001b[39m\n",
      "\u001b[90m│   \u001b[39m %22 = φ (#6 => 2)\u001b[36m::Int64\u001b[39m\n",
      "\u001b[90m└───\u001b[39m       goto #9\n",
      "\u001b[90m9 ──\u001b[39m %24 = (Base.not_int)(%20)\u001b[36m::Bool\u001b[39m\n",
      "\u001b[90m└───\u001b[39m       goto #32 if not %24\n",
      "\u001b[90m10 ┄\u001b[39m %26 = φ (#9 => %21, #31 => %69)\u001b[36m::Symbol\u001b[39m\n",
      "\u001b[90m│   \u001b[39m %27 = φ (#9 => %22, #31 => %70)\u001b[36m::Int64\u001b[39m\n",
      "\u001b[90m│   \u001b[39m %28 = (Base.sle_int)(1, 1)\u001b[36m::Bool\u001b[39m\n",
      "\u001b[90m└───\u001b[39m       goto #12 if not %28\n",
      "\u001b[90m11 ─\u001b[39m %30 = (Base.sle_int)(1, 0)\u001b[36m::Bool\u001b[39m\n",
      "\u001b[90m└───\u001b[39m       goto #13\n",
      "\u001b[90m12 ─\u001b[39m       nothing\n",
      "\u001b[90m13 ┄\u001b[39m %33 = φ (#11 => %30, #12 => false)\u001b[36m::Bool\u001b[39m\n",
      "\u001b[90m└───\u001b[39m       goto #15 if not %33\n",
      "\u001b[90m14 ─\u001b[39m       invoke Base.getindex(()::Tuple, 1::Int64)\n",
      "\u001b[90m└───\u001b[39m       $(Expr(:unreachable))\n",
      "\u001b[90m15 ┄\u001b[39m       goto #16\n",
      "\u001b[90m16 ─\u001b[39m       goto #17\n",
      "\u001b[90m17 ─\u001b[39m       goto #18\n",
      "\u001b[90m18 ─\u001b[39m       goto #19\n",
      "\u001b[90m19 ─\u001b[39m       goto #20\n",
      "\u001b[90m20 ─\u001b[39m %42 = invoke JuMP.add_variable(_2::Model, $(QuoteNode(ScalarVariable{Float64,Float64,Float64,Float64}(VariableInfo{Float64,Float64,Float64,Float64}(false, NaN, false, NaN, false, NaN, false, NaN, false, false))))::ScalarVariable{Float64,Float64,Float64,Float64}, \"\"::String)\u001b[36m::VariableRef\u001b[39m\n",
      "\u001b[90m│   \u001b[39m %43 = invoke Base.ht_keyindex(%8::Dict{Symbol,Int64}, %26::Symbol)\u001b[36m::Int64\u001b[39m\n",
      "\u001b[90m│   \u001b[39m %44 = (Base.slt_int)(%43, 0)\u001b[36m::Bool\u001b[39m\n",
      "\u001b[90m└───\u001b[39m       goto #22 if not %44\n",
      "\u001b[90m21 ─\u001b[39m %46 = %new(Base.KeyError, %26)\u001b[36m::KeyError\u001b[39m\n",
      "\u001b[90m│   \u001b[39m       (Base.throw)(%46)\n",
      "\u001b[90m└───\u001b[39m       $(Expr(:unreachable))\n",
      "\u001b[90m22 ┄\u001b[39m %49 = (Base.getfield)(%8, :vals)\u001b[36m::Array{Int64,1}\u001b[39m\n",
      "\u001b[90m│   \u001b[39m %50 = (Base.arrayref)(false, %49, %43)\u001b[36m::Int64\u001b[39m\n",
      "\u001b[90m└───\u001b[39m       goto #23\n",
      "\u001b[90m23 ─\u001b[39m       goto #24\n",
      "\u001b[90m24 ─\u001b[39m       goto #25\n",
      "\u001b[90m25 ─\u001b[39m       goto #26\n",
      "\u001b[90m26 ─\u001b[39m       (Base.arrayset)(true, %6, %42, %50)\n",
      "\u001b[90m└───\u001b[39m       goto #27\n",
      "\u001b[90m27 ─\u001b[39m %57 = (Base.bitcast)(UInt64, %27)\u001b[36m::UInt64\u001b[39m\n",
      "\u001b[90m│   \u001b[39m %58 = (Base.sub_int)(%57, 0x0000000000000001)\u001b[36m::UInt64\u001b[39m\n",
      "\u001b[90m│   \u001b[39m %59 = (Base.arraylen)(set)\u001b[36m::Int64\u001b[39m\n",
      "\u001b[90m│   \u001b[39m %60 = (Base.sle_int)(0, %59)\u001b[36m::Bool\u001b[39m\n",
      "\u001b[90m│   \u001b[39m %61 = (Base.bitcast)(UInt64, %59)\u001b[36m::UInt64\u001b[39m\n",
      "\u001b[90m│   \u001b[39m %62 = (Base.ult_int)(%58, %61)\u001b[36m::Bool\u001b[39m\n",
      "\u001b[90m│   \u001b[39m %63 = (Base.and_int)(%60, %62)\u001b[36m::Bool\u001b[39m\n",
      "\u001b[90m└───\u001b[39m       goto #29 if not %63\n",
      "\u001b[90m28 ─\u001b[39m %65 = (Base.arrayref)(false, set, %27)\u001b[36m::Symbol\u001b[39m\n",
      "\u001b[90m│   \u001b[39m %66 = (Base.add_int)(%27, 1)\u001b[36m::Int64\u001b[39m\n",
      "\u001b[90m└───\u001b[39m       goto #30\n",
      "\u001b[90m29 ─\u001b[39m       goto #30\n",
      "\u001b[90m30 ┄\u001b[39m %69 = φ (#28 => %65)\u001b[36m::Symbol\u001b[39m\n",
      "\u001b[90m│   \u001b[39m %70 = φ (#28 => %66)\u001b[36m::Int64\u001b[39m\n",
      "\u001b[90m│   \u001b[39m %71 = φ (#28 => false, #29 => true)\u001b[36m::Bool\u001b[39m\n",
      "\u001b[90m│   \u001b[39m %72 = (Base.not_int)(%71)\u001b[36m::Bool\u001b[39m\n",
      "\u001b[90m└───\u001b[39m       goto #32 if not %72\n",
      "\u001b[90m31 ─\u001b[39m       goto #10\n",
      "\u001b[90m32 ┄\u001b[39m       return %10\n"
     ]
    }
   ],
   "source": [
    "@code_warntype get_my_variables_with_testing(model,set_3)"
   ]
  },
  {
   "cell_type": "markdown",
   "metadata": {},
   "source": [
    "**Note:** `@variable` should always be type stable: "
   ]
  },
  {
   "cell_type": "code",
   "execution_count": 26,
   "metadata": {},
   "outputs": [
    {
     "data": {
      "text/plain": [
       "get_my_variables_array (generic function with 1 method)"
      ]
     },
     "execution_count": 26,
     "metadata": {},
     "output_type": "execute_result"
    }
   ],
   "source": [
    "function get_my_variables_array(m,set)\n",
    "    @variable(m,[set], container=Array)\n",
    "end"
   ]
  },
  {
   "cell_type": "code",
   "execution_count": 27,
   "metadata": {},
   "outputs": [
    {
     "name": "stdout",
     "output_type": "stream",
     "text": [
      "Body\u001b[36m::Array{VariableRef,1}\u001b[39m\n",
      "\u001b[90m1 ──\u001b[39m       nothing\n",
      "\u001b[90m│   \u001b[39m %2  = (Base.getfield)(set, :stop)\u001b[36m::Int64\u001b[39m\n",
      "\u001b[90m│   \u001b[39m %3  = $(Expr(:foreigncall, :(:jl_alloc_array_1d), Array{VariableRef,1}, svec(Any, Int64), :(:ccall), 2, Array{VariableRef,1}, :(%2), :(%2)))\u001b[36m::Array{VariableRef,1}\u001b[39m\n",
      "\u001b[90m│   \u001b[39m %4  = (Base.getfield)(set, :stop)\u001b[36m::Int64\u001b[39m\n",
      "\u001b[90m│   \u001b[39m %5  = (Base.slt_int)(%4, 1)\u001b[36m::Bool\u001b[39m\n",
      "\u001b[90m└───\u001b[39m       goto #3 if not %5\n",
      "\u001b[90m2 ──\u001b[39m       goto #4\n",
      "\u001b[90m3 ──\u001b[39m       goto #4\n",
      "\u001b[90m4 ┄─\u001b[39m %9  = φ (#2 => true, #3 => false)\u001b[36m::Bool\u001b[39m\n",
      "\u001b[90m│   \u001b[39m %10 = φ (#3 => 1)\u001b[36m::Int64\u001b[39m\n",
      "\u001b[90m│   \u001b[39m %11 = φ (#3 => 1)\u001b[36m::Int64\u001b[39m\n",
      "\u001b[90m│   \u001b[39m %12 = (Base.not_int)(%9)\u001b[36m::Bool\u001b[39m\n",
      "\u001b[90m└───\u001b[39m       goto #20 if not %12\n",
      "\u001b[90m5 ┄─\u001b[39m %14 = φ (#4 => %10, #19 => %38)\u001b[36m::Int64\u001b[39m\n",
      "\u001b[90m│   \u001b[39m %15 = φ (#4 => %11, #19 => %39)\u001b[36m::Int64\u001b[39m\n",
      "\u001b[90m│   \u001b[39m %16 = (Base.sle_int)(1, 1)\u001b[36m::Bool\u001b[39m\n",
      "\u001b[90m└───\u001b[39m       goto #7 if not %16\n",
      "\u001b[90m6 ──\u001b[39m %18 = (Base.sle_int)(1, 0)\u001b[36m::Bool\u001b[39m\n",
      "\u001b[90m└───\u001b[39m       goto #8\n",
      "\u001b[90m7 ──\u001b[39m       nothing\n",
      "\u001b[90m8 ┄─\u001b[39m %21 = φ (#6 => %18, #7 => false)\u001b[36m::Bool\u001b[39m\n",
      "\u001b[90m└───\u001b[39m       goto #10 if not %21\n",
      "\u001b[90m9 ──\u001b[39m       invoke Base.getindex(()::Tuple, 1::Int64)\n",
      "\u001b[90m└───\u001b[39m       $(Expr(:unreachable))\n",
      "\u001b[90m10 ┄\u001b[39m       goto #11\n",
      "\u001b[90m11 ─\u001b[39m       goto #12\n",
      "\u001b[90m12 ─\u001b[39m       goto #13\n",
      "\u001b[90m13 ─\u001b[39m       goto #14\n",
      "\u001b[90m14 ─\u001b[39m       goto #15\n",
      "\u001b[90m15 ─\u001b[39m %30 = invoke JuMP.add_variable(_2::Model, $(QuoteNode(ScalarVariable{Float64,Float64,Float64,Float64}(VariableInfo{Float64,Float64,Float64,Float64}(false, NaN, false, NaN, false, NaN, false, NaN, false, false))))::ScalarVariable{Float64,Float64,Float64,Float64}, \"\"::String)\u001b[36m::VariableRef\u001b[39m\n",
      "\u001b[90m│   \u001b[39m       (Base.arrayset)(true, %3, %30, %14)\n",
      "\u001b[90m│   \u001b[39m %32 = (Base.getfield)(set, :stop)\u001b[36m::Int64\u001b[39m\n",
      "\u001b[90m│   \u001b[39m %33 = (%15 === %32)\u001b[36m::Bool\u001b[39m\n",
      "\u001b[90m└───\u001b[39m       goto #17 if not %33\n",
      "\u001b[90m16 ─\u001b[39m       goto #18\n",
      "\u001b[90m17 ─\u001b[39m %36 = (Base.add_int)(%15, 1)\u001b[36m::Int64\u001b[39m\n",
      "\u001b[90m└───\u001b[39m       goto #18\n",
      "\u001b[90m18 ┄\u001b[39m %38 = φ (#17 => %36)\u001b[36m::Int64\u001b[39m\n",
      "\u001b[90m│   \u001b[39m %39 = φ (#17 => %36)\u001b[36m::Int64\u001b[39m\n",
      "\u001b[90m│   \u001b[39m %40 = φ (#16 => true, #17 => false)\u001b[36m::Bool\u001b[39m\n",
      "\u001b[90m│   \u001b[39m %41 = (Base.not_int)(%40)\u001b[36m::Bool\u001b[39m\n",
      "\u001b[90m└───\u001b[39m       goto #20 if not %41\n",
      "\u001b[90m19 ─\u001b[39m       goto #5\n",
      "\u001b[90m20 ┄\u001b[39m       return %3\n"
     ]
    }
   ],
   "source": [
    "@code_warntype get_my_variables_array(model,set_1)"
   ]
  },
  {
   "cell_type": "code",
   "execution_count": 28,
   "metadata": {},
   "outputs": [
    {
     "name": "stdout",
     "output_type": "stream",
     "text": [
      "Body\u001b[36m::Array{VariableRef,1}\u001b[39m\n",
      "\u001b[90m1 ──\u001b[39m %1  = (Base.getfield)(set, :start)\u001b[36m::Int64\u001b[39m\n",
      "\u001b[90m│   \u001b[39m %2  = (%1 === 1)\u001b[36m::Bool\u001b[39m\n",
      "\u001b[90m└───\u001b[39m       goto #29 if not %2\n",
      "\u001b[90m2 ──\u001b[39m       nothing\n",
      "\u001b[90m│   \u001b[39m %5  = (Base.getfield)(set, :stop)\u001b[36m::Int64\u001b[39m\n",
      "\u001b[90m│   \u001b[39m %6  = (Base.getfield)(set, :start)\u001b[36m::Int64\u001b[39m\n",
      "\u001b[90m│   \u001b[39m %7  = (Base.Checked.checked_ssub_int)(%5, %6)\u001b[36m::Tuple{Int64,Bool}\u001b[39m\n",
      "\u001b[90m│   \u001b[39m %8  = (Base.getfield)(%7, 1)\u001b[36m::Int64\u001b[39m\n",
      "\u001b[90m│   \u001b[39m %9  = (Base.getfield)(%7, 2)\u001b[36m::Bool\u001b[39m\n",
      "\u001b[90m└───\u001b[39m       goto #4 if not %9\n",
      "\u001b[90m3 ──\u001b[39m       invoke Base.Checked.throw_overflowerr_binaryop(:-::Symbol, %5::Int64, %6::Int64)\n",
      "\u001b[90m└───\u001b[39m       $(Expr(:unreachable))\n",
      "\u001b[90m4 ┄─\u001b[39m       goto #5\n",
      "\u001b[90m5 ──\u001b[39m %14 = (Base.Checked.checked_sadd_int)(%8, 1)\u001b[36m::Tuple{Int64,Bool}\u001b[39m\n",
      "\u001b[90m│   \u001b[39m %15 = (Base.getfield)(%14, 1)\u001b[36m::Int64\u001b[39m\n",
      "\u001b[90m│   \u001b[39m %16 = (Base.getfield)(%14, 2)\u001b[36m::Bool\u001b[39m\n",
      "\u001b[90m└───\u001b[39m       goto #7 if not %16\n",
      "\u001b[90m6 ──\u001b[39m       invoke Base.Checked.throw_overflowerr_binaryop(:+::Symbol, %8::Int64, 1::Int64)\n",
      "\u001b[90m└───\u001b[39m       $(Expr(:unreachable))\n",
      "\u001b[90m7 ┄─\u001b[39m       goto #8\n",
      "\u001b[90m8 ──\u001b[39m       goto #9\n",
      "\u001b[90m9 ──\u001b[39m %22 = $(Expr(:foreigncall, :(:jl_alloc_array_1d), Array{VariableRef,1}, svec(Any, Int64), :(:ccall), 2, Array{VariableRef,1}, :(%15), :(%15)))\u001b[36m::Array{VariableRef,1}\u001b[39m\n",
      "\u001b[90m│   \u001b[39m %23 = (Base.getfield)(set, :start)\u001b[36m::Int64\u001b[39m\n",
      "\u001b[90m│   \u001b[39m %24 = (Base.getfield)(set, :stop)\u001b[36m::Int64\u001b[39m\n",
      "\u001b[90m│   \u001b[39m %25 = (Base.slt_int)(%24, %23)\u001b[36m::Bool\u001b[39m\n",
      "\u001b[90m└───\u001b[39m       goto #11 if not %25\n",
      "\u001b[90m10 ─\u001b[39m       goto #12\n",
      "\u001b[90m11 ─\u001b[39m %28 = (Base.getfield)(set, :start)\u001b[36m::Int64\u001b[39m\n",
      "\u001b[90m│   \u001b[39m %29 = (Base.getfield)(set, :start)\u001b[36m::Int64\u001b[39m\n",
      "\u001b[90m└───\u001b[39m       goto #12\n",
      "\u001b[90m12 ┄\u001b[39m %31 = φ (#10 => true, #11 => false)\u001b[36m::Bool\u001b[39m\n",
      "\u001b[90m│   \u001b[39m %32 = φ (#11 => %28)\u001b[36m::Int64\u001b[39m\n",
      "\u001b[90m│   \u001b[39m %33 = φ (#11 => %29)\u001b[36m::Int64\u001b[39m\n",
      "\u001b[90m│   \u001b[39m %34 = (Base.not_int)(%31)\u001b[36m::Bool\u001b[39m\n",
      "\u001b[90m└───\u001b[39m       goto #28 if not %34\n",
      "\u001b[90m13 ┄\u001b[39m %36 = φ (#12 => %32, #27 => %60)\u001b[36m::Int64\u001b[39m\n",
      "\u001b[90m│   \u001b[39m %37 = φ (#12 => %33, #27 => %61)\u001b[36m::Int64\u001b[39m\n",
      "\u001b[90m│   \u001b[39m %38 = (Base.sle_int)(1, 1)\u001b[36m::Bool\u001b[39m\n",
      "\u001b[90m└───\u001b[39m       goto #15 if not %38\n",
      "\u001b[90m14 ─\u001b[39m %40 = (Base.sle_int)(1, 0)\u001b[36m::Bool\u001b[39m\n",
      "\u001b[90m└───\u001b[39m       goto #16\n",
      "\u001b[90m15 ─\u001b[39m       nothing\n",
      "\u001b[90m16 ┄\u001b[39m %43 = φ (#14 => %40, #15 => false)\u001b[36m::Bool\u001b[39m\n",
      "\u001b[90m└───\u001b[39m       goto #18 if not %43\n",
      "\u001b[90m17 ─\u001b[39m       invoke Base.getindex(()::Tuple, 1::Int64)\n",
      "\u001b[90m└───\u001b[39m       $(Expr(:unreachable))\n",
      "\u001b[90m18 ┄\u001b[39m       goto #19\n",
      "\u001b[90m19 ─\u001b[39m       goto #20\n",
      "\u001b[90m20 ─\u001b[39m       goto #21\n",
      "\u001b[90m21 ─\u001b[39m       goto #22\n",
      "\u001b[90m22 ─\u001b[39m       goto #23\n",
      "\u001b[90m23 ─\u001b[39m %52 = invoke JuMP.add_variable(_2::Model, $(QuoteNode(ScalarVariable{Float64,Float64,Float64,Float64}(VariableInfo{Float64,Float64,Float64,Float64}(false, NaN, false, NaN, false, NaN, false, NaN, false, false))))::ScalarVariable{Float64,Float64,Float64,Float64}, \"\"::String)\u001b[36m::VariableRef\u001b[39m\n",
      "\u001b[90m│   \u001b[39m       (Base.arrayset)(true, %22, %52, %36)\n",
      "\u001b[90m│   \u001b[39m %54 = (Base.getfield)(set, :stop)\u001b[36m::Int64\u001b[39m\n",
      "\u001b[90m│   \u001b[39m %55 = (%37 === %54)\u001b[36m::Bool\u001b[39m\n",
      "\u001b[90m└───\u001b[39m       goto #25 if not %55\n",
      "\u001b[90m24 ─\u001b[39m       goto #26\n",
      "\u001b[90m25 ─\u001b[39m %58 = (Base.add_int)(%37, 1)\u001b[36m::Int64\u001b[39m\n",
      "\u001b[90m└───\u001b[39m       goto #26\n",
      "\u001b[90m26 ┄\u001b[39m %60 = φ (#25 => %58)\u001b[36m::Int64\u001b[39m\n",
      "\u001b[90m│   \u001b[39m %61 = φ (#25 => %58)\u001b[36m::Int64\u001b[39m\n",
      "\u001b[90m│   \u001b[39m %62 = φ (#24 => true, #25 => false)\u001b[36m::Bool\u001b[39m\n",
      "\u001b[90m│   \u001b[39m %63 = (Base.not_int)(%62)\u001b[36m::Bool\u001b[39m\n",
      "\u001b[90m└───\u001b[39m       goto #28 if not %63\n",
      "\u001b[90m27 ─\u001b[39m       goto #13\n",
      "\u001b[90m28 ┄\u001b[39m       return %22\n",
      "\u001b[90m29 ─\u001b[39m       invoke JuMP.error(\"Index set for array is not one-based interval.\"::String)\n",
      "\u001b[90m└───\u001b[39m       $(Expr(:unreachable))\n"
     ]
    }
   ],
   "source": [
    "@code_warntype get_my_variables_array(model,set_2)"
   ]
  },
  {
   "cell_type": "code",
   "execution_count": 29,
   "metadata": {},
   "outputs": [
    {
     "name": "stdout",
     "output_type": "stream",
     "text": [
      "Body\u001b[36m::Union{}\u001b[39m\n",
      "\u001b[90m1 ─\u001b[39m     goto #3 if not false\n",
      "\u001b[90m2 ─\u001b[39m     nothing\n",
      "\u001b[90m3 ┄\u001b[39m     invoke JuMP.error(\"Index set for array is not one-based interval.\"::String)\n",
      "\u001b[90m└──\u001b[39m     $(Expr(:unreachable))\n"
     ]
    }
   ],
   "source": [
    "@code_warntype get_my_variables_array(model,set_3)"
   ]
  },
  {
   "cell_type": "markdown",
   "metadata": {
    "slideshow": {
     "slide_type": "slide"
    }
   },
   "source": [
    "# More Type Instability Warnings"
   ]
  },
  {
   "cell_type": "markdown",
   "metadata": {
    "collapsed": true
   },
   "source": [
    "cf. https://github.com/JuliaOpt/JuMP.jl/pull/1348"
   ]
  },
  {
   "cell_type": "code",
   "execution_count": 30,
   "metadata": {},
   "outputs": [
    {
     "data": {
      "text/plain": [
       "5×5 Array{VariableRef,2}:\n",
       " x[1,1]  x[1,2]  x[1,3]  x[1,4]  x[1,5]\n",
       " x[2,1]  x[2,2]  x[2,3]  x[2,4]  x[2,5]\n",
       " x[3,1]  x[3,2]  x[3,3]  x[3,4]  x[3,5]\n",
       " x[4,1]  x[4,2]  x[4,3]  x[4,4]  x[4,5]\n",
       " x[5,1]  x[5,2]  x[5,3]  x[5,4]  x[5,5]"
      ]
     },
     "execution_count": 30,
     "metadata": {},
     "output_type": "execute_result"
    }
   ],
   "source": [
    "using ECOS\n",
    "model = Model(with_optimizer(ECOS.Optimizer))\n",
    "@variable(model, x[i=1:5,j=1:5]) "
   ]
  },
  {
   "cell_type": "code",
   "execution_count": 31,
   "metadata": {},
   "outputs": [
    {
     "data": {
      "text/plain": [
       "5-element Array{ConstraintRef{Model,C,Shape} where Shape<:AbstractShape where C,1}:\n",
       " [x[1,1], x[1,2], x[1,3], x[1,4], x[1,5]] ∈ MathOptInterface.SecondOrderCone(5)\n",
       " [x[2,1], x[2,2], x[2,3], x[2,4], x[2,5]] ∈ MathOptInterface.SecondOrderCone(5)\n",
       " [x[3,1], x[3,2], x[3,3], x[3,4], x[3,5]] ∈ MathOptInterface.SecondOrderCone(5)\n",
       " [x[4,1], x[4,2], x[4,3], x[4,4], x[4,5]] ∈ MathOptInterface.SecondOrderCone(5)\n",
       " [x[5,1], x[5,2], x[5,3], x[5,4], x[5,5]] ∈ MathOptInterface.SecondOrderCone(5)"
      ]
     },
     "execution_count": 31,
     "metadata": {},
     "output_type": "execute_result"
    }
   ],
   "source": [
    "@constraint(model,[i=1:size(x,1)], x[i,:] in MOI.SecondOrderCone(5))"
   ]
  },
  {
   "cell_type": "code",
   "execution_count": 32,
   "metadata": {},
   "outputs": [
    {
     "data": {
      "text/plain": [
       "add_my_constraints (generic function with 1 method)"
      ]
     },
     "execution_count": 32,
     "metadata": {},
     "output_type": "execute_result"
    }
   ],
   "source": [
    "function add_my_constraints(model,x)\n",
    "    n,m = size(x)\n",
    "    @constraint(model,[i=1:n], x[i,:] in MOI.SecondOrderCone(m))\n",
    "end"
   ]
  },
  {
   "cell_type": "code",
   "execution_count": 33,
   "metadata": {},
   "outputs": [
    {
     "data": {
      "text/plain": [
       "5-element Array{ConstraintRef{Model,C,Shape} where Shape<:AbstractShape where C,1}:\n",
       " [x[1,1], x[1,2], x[1,3], x[1,4], x[1,5]] ∈ MathOptInterface.SecondOrderCone(5)\n",
       " [x[2,1], x[2,2], x[2,3], x[2,4], x[2,5]] ∈ MathOptInterface.SecondOrderCone(5)\n",
       " [x[3,1], x[3,2], x[3,3], x[3,4], x[3,5]] ∈ MathOptInterface.SecondOrderCone(5)\n",
       " [x[4,1], x[4,2], x[4,3], x[4,4], x[4,5]] ∈ MathOptInterface.SecondOrderCone(5)\n",
       " [x[5,1], x[5,2], x[5,3], x[5,4], x[5,5]] ∈ MathOptInterface.SecondOrderCone(5)"
      ]
     },
     "execution_count": 33,
     "metadata": {},
     "output_type": "execute_result"
    }
   ],
   "source": [
    "add_my_constraints(model,x)"
   ]
  },
  {
   "cell_type": "code",
   "execution_count": 34,
   "metadata": {},
   "outputs": [
    {
     "name": "stdout",
     "output_type": "stream",
     "text": [
      "Body\u001b[36m::Array{ConstraintRef{Model,C,Shape} where Shape<:AbstractShape where C,1}\u001b[39m\n",
      "\u001b[90m1 ──\u001b[39m %1  = (Base.arraysize)(x, 1)\u001b[36m::Int64\u001b[39m\n",
      "\u001b[90m│   \u001b[39m %2  = (Base.arraysize)(x, 2)\u001b[36m::Int64\u001b[39m\n",
      "\u001b[90m│   \u001b[39m %3  = (Base.sle_int)(1, %1)\u001b[36m::Bool\u001b[39m\n",
      "\u001b[90m│   \u001b[39m %4  = (Base.ifelse)(%3, %1, 0)\u001b[36m::Int64\u001b[39m\n",
      "\u001b[90m│   \u001b[39m %5  = (Base.Checked.checked_ssub_int)(%4, 1)\u001b[36m::Tuple{Int64,Bool}\u001b[39m\n",
      "\u001b[90m│   \u001b[39m %6  = (Base.getfield)(%5, 1)\u001b[36m::Int64\u001b[39m\n",
      "\u001b[90m│   \u001b[39m %7  = (Base.getfield)(%5, 2)\u001b[36m::Bool\u001b[39m\n",
      "\u001b[90m└───\u001b[39m       goto #3 if not %7\n",
      "\u001b[90m2 ──\u001b[39m       invoke Base.Checked.throw_overflowerr_binaryop(:-::Symbol, %4::Int64, 1::Int64)\n",
      "\u001b[90m└───\u001b[39m       $(Expr(:unreachable))\n",
      "\u001b[90m3 ┄─\u001b[39m       goto #4\n",
      "\u001b[90m4 ──\u001b[39m %12 = (Base.Checked.checked_sadd_int)(%6, 1)\u001b[36m::Tuple{Int64,Bool}\u001b[39m\n",
      "\u001b[90m│   \u001b[39m %13 = (Base.getfield)(%12, 1)\u001b[36m::Int64\u001b[39m\n",
      "\u001b[90m│   \u001b[39m %14 = (Base.getfield)(%12, 2)\u001b[36m::Bool\u001b[39m\n",
      "\u001b[90m└───\u001b[39m       goto #6 if not %14\n",
      "\u001b[90m5 ──\u001b[39m       invoke Base.Checked.throw_overflowerr_binaryop(:+::Symbol, %6::Int64, 1::Int64)\n",
      "\u001b[90m└───\u001b[39m       $(Expr(:unreachable))\n",
      "\u001b[90m6 ┄─\u001b[39m       goto #7\n",
      "\u001b[90m7 ──\u001b[39m       goto #8\n",
      "\u001b[90m8 ──\u001b[39m %20 = $(Expr(:foreigncall, :(:jl_alloc_array_1d), Array{ConstraintRef{Model,C,Shape} where Shape<:AbstractShape where C,1}, svec(Any, Int64), :(:ccall), 2, Array{ConstraintRef{Model,C,Shape} where Shape<:AbstractShape where C,1}, :(%13), :(%13)))\u001b[36m::Array{ConstraintRef{Model,C,Shape} where Shape<:AbstractShape where C,1}\u001b[39m\n",
      "\u001b[90m│   \u001b[39m %21 = (Base.sle_int)(1, %1)\u001b[36m::Bool\u001b[39m\n",
      "\u001b[90m│   \u001b[39m %22 = (Base.ifelse)(%21, %1, 0)\u001b[36m::Int64\u001b[39m\n",
      "\u001b[90m│   \u001b[39m %23 = (Base.slt_int)(%22, 1)\u001b[36m::Bool\u001b[39m\n",
      "\u001b[90m└───\u001b[39m       goto #10 if not %23\n",
      "\u001b[90m9 ──\u001b[39m       goto #11\n",
      "\u001b[90m10 ─\u001b[39m       goto #11\n",
      "\u001b[90m11 ┄\u001b[39m %27 = φ (#9 => true, #10 => false)\u001b[36m::Bool\u001b[39m\n",
      "\u001b[90m│   \u001b[39m %28 = φ (#10 => 1)\u001b[36m::Int64\u001b[39m\n",
      "\u001b[90m│   \u001b[39m %29 = φ (#10 => 1)\u001b[36m::Int64\u001b[39m\n",
      "\u001b[90m│   \u001b[39m %30 = (Base.not_int)(%27)\u001b[36m::Bool\u001b[39m\n",
      "\u001b[90m└───\u001b[39m       goto #24 if not %30\n",
      "\u001b[90m12 ┄\u001b[39m %32 = φ (#11 => %28, #23 => %68)\u001b[36m::Int64\u001b[39m\n",
      "\u001b[90m│   \u001b[39m %33 = φ (#11 => %29, #23 => %69)\u001b[36m::Int64\u001b[39m\n",
      "\u001b[90m│   \u001b[39m       (Base.arraysize)(x, 1)\n",
      "\u001b[90m│   \u001b[39m %35 = (Base.arraysize)(x, 2)\u001b[36m::Int64\u001b[39m\n",
      "\u001b[90m│   \u001b[39m %36 = (Base.slt_int)(%35, 0)\u001b[36m::Bool\u001b[39m\n",
      "\u001b[90m│   \u001b[39m %37 = (Base.ifelse)(%36, 0, %35)\u001b[36m::Int64\u001b[39m\n",
      "\u001b[90m│   \u001b[39m %38 = %new(Base.OneTo{Int64}, %37)\u001b[36m::Base.OneTo{Int64}\u001b[39m\n",
      "\u001b[90m│   \u001b[39m %39 = %new(Base.Slice{Base.OneTo{Int64}}, %38)\u001b[36m::Base.Slice{Base.OneTo{Int64}}\u001b[39m\n",
      "\u001b[90m└───\u001b[39m       goto #17 if not true\n",
      "\u001b[90m13 ─\u001b[39m %41 = (Core.tuple)(%32, %39)\u001b[36m::Tuple{Int64,Base.Slice{Base.OneTo{Int64}}}\u001b[39m\n",
      "\u001b[90m│   \u001b[39m %42 = (Base.arraysize)(x, 1)\u001b[36m::Int64\u001b[39m\n",
      "\u001b[90m│   \u001b[39m       (Base.arraysize)(x, 2)\n",
      "\u001b[90m│   \u001b[39m %44 = (Base.slt_int)(%42, 0)\u001b[36m::Bool\u001b[39m\n",
      "\u001b[90m│   \u001b[39m %45 = (Base.ifelse)(%44, 0, %42)\u001b[36m::Int64\u001b[39m\n",
      "\u001b[90m│   \u001b[39m %46 = (Base.sle_int)(1, %32)\u001b[36m::Bool\u001b[39m\n",
      "\u001b[90m│   \u001b[39m %47 = (Base.sle_int)(%32, %45)\u001b[36m::Bool\u001b[39m\n",
      "\u001b[90m│   \u001b[39m %48 = (Base.and_int)(%46, %47)\u001b[36m::Bool\u001b[39m\n",
      "\u001b[90m│   \u001b[39m %49 = (Base.and_int)(%48, true)\u001b[36m::Bool\u001b[39m\n",
      "\u001b[90m└───\u001b[39m       goto #15 if not %49\n",
      "\u001b[90m14 ─\u001b[39m       goto #16\n",
      "\u001b[90m15 ─\u001b[39m       invoke Base.throw_boundserror(_3::Array{VariableRef,2}, %41::Tuple{Int64,Base.Slice{Base.OneTo{Int64}}})\n",
      "\u001b[90m└───\u001b[39m       $(Expr(:unreachable))\n",
      "\u001b[90m16 ┄\u001b[39m       nothing\n",
      "\u001b[90m17 ┄\u001b[39m %55 = invoke Base._unsafe_getindex($(QuoteNode(IndexLinear()))::IndexLinear, _3::Array{VariableRef,2}, %32::Int64, %39::Base.Slice{Base.OneTo{Int64}})\u001b[36m::Array{VariableRef,1}\u001b[39m\n",
      "\u001b[90m└───\u001b[39m       goto #18\n",
      "\u001b[90m18 ─\u001b[39m       goto #19\n",
      "\u001b[90m19 ─\u001b[39m %58 = invoke JuMP._destructive_add_with_reorder!($(QuoteNode(Val{false}()))::Val{false}, %55::Array{VariableRef,1})\u001b[36m::Array{VariableRef,1}\u001b[39m\n",
      "\u001b[90m│   \u001b[39m %59 = %new(MathOptInterface.SecondOrderCone, %2)\u001b[36m::MathOptInterface.SecondOrderCone\u001b[39m\n",
      "\u001b[90m│   \u001b[39m %60 = %new(VectorConstraint{VariableRef,MathOptInterface.SecondOrderCone,VectorShape}, %58, %59, $(QuoteNode(VectorShape())))\u001b[36m::VectorConstraint{VariableRef,MathOptInterface.SecondOrderCone,VectorShape}\u001b[39m\n",
      "\u001b[90m│   \u001b[39m %61 = invoke JuMP.add_constraint(_2::Model, %60::VectorConstraint{VariableRef,MathOptInterface.SecondOrderCone,VectorShape}, \"\"::String)\u001b[91m\u001b[1m::ConstraintRef{Model,_1,VectorShape} where _1\u001b[22m\u001b[39m\n",
      "\u001b[90m│   \u001b[39m       (Base.arrayset)(true, %20, %61, %32)\n",
      "\u001b[90m│   \u001b[39m %63 = (%33 === %22)\u001b[36m::Bool\u001b[39m\n",
      "\u001b[90m└───\u001b[39m       goto #21 if not %63\n",
      "\u001b[90m20 ─\u001b[39m       goto #22\n",
      "\u001b[90m21 ─\u001b[39m %66 = (Base.add_int)(%33, 1)\u001b[36m::Int64\u001b[39m\n",
      "\u001b[90m└───\u001b[39m       goto #22\n",
      "\u001b[90m22 ┄\u001b[39m %68 = φ (#21 => %66)\u001b[36m::Int64\u001b[39m\n",
      "\u001b[90m│   \u001b[39m %69 = φ (#21 => %66)\u001b[36m::Int64\u001b[39m\n",
      "\u001b[90m│   \u001b[39m %70 = φ (#20 => true, #21 => false)\u001b[36m::Bool\u001b[39m\n",
      "\u001b[90m│   \u001b[39m %71 = (Base.not_int)(%70)\u001b[36m::Bool\u001b[39m\n",
      "\u001b[90m└───\u001b[39m       goto #24 if not %71\n",
      "\u001b[90m23 ─\u001b[39m       goto #12\n",
      "\u001b[90m24 ┄\u001b[39m       return %20\n"
     ]
    }
   ],
   "source": [
    "@code_warntype add_my_constraints(model,x)"
   ]
  },
  {
   "cell_type": "code",
   "execution_count": 35,
   "metadata": {},
   "outputs": [
    {
     "data": {
      "text/plain": [
       "add_my_constraints_type (generic function with 1 method)"
      ]
     },
     "execution_count": 35,
     "metadata": {},
     "output_type": "execute_result"
    }
   ],
   "source": [
    "function add_my_constraints_type(model,x,const_type)\n",
    "    n,m = size(x)\n",
    "    constraints = (x -> x ? MOI.SecondOrderCone(m) : MOI.RotatedSecondOrderCone(m)).(const_type)\n",
    "    @constraint(model,[i=1:n], x[i,:] in constraints[i])\n",
    "end"
   ]
  },
  {
   "cell_type": "code",
   "execution_count": 36,
   "metadata": {},
   "outputs": [
    {
     "data": {
      "text/plain": [
       "5-element Array{Bool,1}:\n",
       " false\n",
       " false\n",
       "  true\n",
       "  true\n",
       " false"
      ]
     },
     "execution_count": 36,
     "metadata": {},
     "output_type": "execute_result"
    }
   ],
   "source": [
    "const_type = rand([true,false],5)"
   ]
  },
  {
   "cell_type": "code",
   "execution_count": 37,
   "metadata": {},
   "outputs": [
    {
     "name": "stdout",
     "output_type": "stream",
     "text": [
      "Body\u001b[36m::Array{ConstraintRef{Model,C,Shape} where Shape<:AbstractShape where C,1}\u001b[39m\n",
      "\u001b[90m1 ──\u001b[39m %1   = (Base.arraysize)(x, 1)\u001b[36m::Int64\u001b[39m\n",
      "\u001b[90m│   \u001b[39m %2   = (Base.arraysize)(x, 2)\u001b[36m::Int64\u001b[39m\n",
      "\u001b[90m│   \u001b[39m %3   = %new(getfield(Main, Symbol(\"##3#4\")){Int64}, %2)\u001b[36m::getfield(Main, Symbol(\"##3#4\")){Int64}\u001b[39m\n",
      "\u001b[90m│   \u001b[39m %4   = (Core.tuple)(const_type)\u001b[36m::Tuple{Array{Bool,1}}\u001b[39m\n",
      "\u001b[90m│   \u001b[39m %5   = (Base.arraysize)(const_type, 1)\u001b[36m::Int64\u001b[39m\n",
      "\u001b[90m│   \u001b[39m %6   = (Base.slt_int)(%5, 0)\u001b[36m::Bool\u001b[39m\n",
      "\u001b[90m│   \u001b[39m %7   = (Base.ifelse)(%6, 0, %5)\u001b[36m::Int64\u001b[39m\n",
      "\u001b[90m│   \u001b[39m %8   = %new(Base.OneTo{Int64}, %7)\u001b[36m::Base.OneTo{Int64}\u001b[39m\n",
      "\u001b[90m│   \u001b[39m %9   = (Core.tuple)(%8)\u001b[36m::Tuple{Base.OneTo{Int64}}\u001b[39m\n",
      "\u001b[90m│   \u001b[39m %10  = %new(Base.Broadcast.Broadcasted{Base.Broadcast.DefaultArrayStyle{1},Tuple{Base.OneTo{Int64}},getfield(Main, Symbol(\"##3#4\")){Int64},Tuple{Array{Bool,1}}}, %3, %4, %9)\u001b[36m::Base.Broadcast.Broadcasted{Base.Broadcast.DefaultArrayStyle{1},Tuple{Base.OneTo{Int64}},getfield(Main, Symbol(\"##3#4\")){Int64},Tuple{Array{Bool,1}}}\u001b[39m\n",
      "\u001b[90m│   \u001b[39m %11  = invoke Base.Broadcast.combine_eltypes(%3::Function, %4::Tuple{Array{Bool,1}})\u001b[91m\u001b[1m::Type{#s70} where #s70<:Union{RotatedSecondOrderCone, SecondOrderCone}\u001b[22m\u001b[39m\n",
      "\u001b[90m│   \u001b[39m %12  = (%11 isa Base.DataType)\u001b[36m::Bool\u001b[39m\n",
      "\u001b[90m└───\u001b[39m        goto #3 if not %12\n",
      "\u001b[90m2 ──\u001b[39m %14  = (Base.getfield)(%11, :isconcretetype)\u001b[91m\u001b[1m::Any\u001b[22m\u001b[39m\n",
      "\u001b[90m└───\u001b[39m        goto #4\n",
      "\u001b[90m3 ──\u001b[39m        goto #4\n",
      "\u001b[90m4 ┄─\u001b[39m %17  = φ (#2 => %14, #3 => false)\u001b[91m\u001b[1m::Any\u001b[22m\u001b[39m\n",
      "\u001b[90m└───\u001b[39m        goto #6 if not %17\n",
      "\u001b[90m5 ──\u001b[39m %19  = (Base.Broadcast.similar)(%10, %11)\u001b[91m\u001b[1m::Any\u001b[22m\u001b[39m\n",
      "\u001b[90m│   \u001b[39m %20  = (Base.Broadcast.copyto!)(%19, %10)\u001b[91m\u001b[1m::AbstractArray\u001b[22m\u001b[39m\n",
      "\u001b[90m└───\u001b[39m        goto #28\n",
      "\u001b[90m6 ──\u001b[39m %22  = (Base.arraysize)(const_type, 1)\u001b[36m::Int64\u001b[39m\n",
      "\u001b[90m│   \u001b[39m %23  = (Base.slt_int)(%22, 0)\u001b[36m::Bool\u001b[39m\n",
      "\u001b[90m│   \u001b[39m %24  = (Base.ifelse)(%23, 0, %22)\u001b[36m::Int64\u001b[39m\n",
      "\u001b[90m│   \u001b[39m %25  = (%24 === 1)\u001b[36m::Bool\u001b[39m\n",
      "\u001b[90m│   \u001b[39m %26  = (Base.not_int)(%25)\u001b[36m::Bool\u001b[39m\n",
      "\u001b[90m│   \u001b[39m %27  = (Core.tuple)(%26)\u001b[36m::Tuple{Bool}\u001b[39m\n",
      "\u001b[90m│   \u001b[39m %28  = (Core.tuple)(1)\u001b[36m::Tuple{Int64}\u001b[39m\n",
      "\u001b[90m│   \u001b[39m %29  = %new(Base.Broadcast.Extruded{Array{Bool,1},Tuple{Bool},Tuple{Int64}}, const_type, %27, %28)\u001b[36m::Base.Broadcast.Extruded{Array{Bool,1},Tuple{Bool},Tuple{Int64}}\u001b[39m\n",
      "\u001b[90m│   \u001b[39m %30  = (Core.tuple)(%29)\u001b[36m::Tuple{Base.Broadcast.Extruded{Array{Bool,1},Tuple{Bool},Tuple{Int64}}}\u001b[39m\n",
      "\u001b[90m│   \u001b[39m %31  = %new(Base.Broadcast.Broadcasted{Base.Broadcast.DefaultArrayStyle{1},Tuple{Base.OneTo{Int64}},getfield(Main, Symbol(\"##3#4\")){Int64},Tuple{Base.Broadcast.Extruded{Array{Bool,1},Tuple{Bool},Tuple{Int64}}}}, %3, %30, %9)\u001b[36m::Base.Broadcast.Broadcasted{Base.Broadcast.DefaultArrayStyle{1},Tuple{Base.OneTo{Int64}},getfield(Main, Symbol(\"##3#4\")){Int64},Tuple{Base.Broadcast.Extruded{Array{Bool,1},Tuple{Bool},Tuple{Int64}}}}\u001b[39m\n",
      "\u001b[90m│   \u001b[39m %32  = (Base.slt_int)(%7, 1)\u001b[36m::Bool\u001b[39m\n",
      "\u001b[90m└───\u001b[39m        goto #8 if not %32\n",
      "\u001b[90m7 ──\u001b[39m        goto #9\n",
      "\u001b[90m8 ──\u001b[39m        goto #9\n",
      "\u001b[90m9 ┄─\u001b[39m %36  = φ (#7 => true, #8 => false)\u001b[36m::Bool\u001b[39m\n",
      "\u001b[90m│   \u001b[39m %37  = φ (#8 => 1)\u001b[36m::Int64\u001b[39m\n",
      "\u001b[90m│   \u001b[39m %38  = φ (#8 => 1)\u001b[36m::Int64\u001b[39m\n",
      "\u001b[90m└───\u001b[39m        goto #11 if not %36\n",
      "\u001b[90m10 ─\u001b[39m %40  = (Base.Broadcast.similar)(%31, %11)\u001b[91m\u001b[1m::Any\u001b[22m\u001b[39m\n",
      "\u001b[90m└───\u001b[39m        goto #28\n",
      "\u001b[90m11 ─\u001b[39m        goto #16 if not false\n",
      "\u001b[90m12 ─\u001b[39m %43  = (Base.sle_int)(1, %37)\u001b[36m::Bool\u001b[39m\n",
      "\u001b[90m│   \u001b[39m %44  = (Base.sle_int)(%37, %7)\u001b[36m::Bool\u001b[39m\n",
      "\u001b[90m│   \u001b[39m %45  = (Base.and_int)(%43, %44)\u001b[36m::Bool\u001b[39m\n",
      "\u001b[90m│   \u001b[39m %46  = (Base.and_int)(%45, true)\u001b[36m::Bool\u001b[39m\n",
      "\u001b[90m└───\u001b[39m        goto #14 if not %46\n",
      "\u001b[90m13 ─\u001b[39m        goto #15\n",
      "\u001b[90m14 ─\u001b[39m %49  = Base.throw_boundserror\u001b[36m::typeof(Base.throw_boundserror)\u001b[39m\n",
      "\u001b[90m│   \u001b[39m %50  = (Core.tuple)(%37)\u001b[36m::Tuple{Int64}\u001b[39m\n",
      "\u001b[90m│   \u001b[39m        invoke %49(%31::Base.Broadcast.Broadcasted{Base.Broadcast.DefaultArrayStyle{1},Tuple{Base.OneTo{Int64}},getfield(Main, Symbol(\"##3#4\")){Int64},Tuple{Base.Broadcast.Extruded{Array{Bool,1},Tuple{Bool},Tuple{Int64}}}}, %50::Tuple{Int64})\n",
      "\u001b[90m└───\u001b[39m        $(Expr(:unreachable))\n",
      "\u001b[90m15 ┄\u001b[39m        nothing\n",
      "\u001b[90m16 ┄\u001b[39m %54  = (Base.Broadcast.ifelse)(%26, %37, 1)\u001b[36m::Int64\u001b[39m\n",
      "\u001b[90m│   \u001b[39m %55  = (Base.arrayref)(false, const_type, %54)\u001b[36m::Bool\u001b[39m\n",
      "\u001b[90m└───\u001b[39m        goto #18 if not %55\n",
      "\u001b[90m17 ─\u001b[39m %57  = %new(MathOptInterface.SecondOrderCone, %2)\u001b[36m::MathOptInterface.SecondOrderCone\u001b[39m\n",
      "\u001b[90m└───\u001b[39m        goto #19\n",
      "\u001b[90m18 ─\u001b[39m %59  = %new(MathOptInterface.RotatedSecondOrderCone, %2)\u001b[36m::MathOptInterface.RotatedSecondOrderCone\u001b[39m\n",
      "\u001b[90m└───\u001b[39m        goto #19\n",
      "\u001b[90m19 ┄\u001b[39m %61  = φ (#17 => %57, #18 => %59)\u001b[91m\u001b[1m::Union{RotatedSecondOrderCone, SecondOrderCone}\u001b[22m\u001b[39m\n",
      "\u001b[90m└───\u001b[39m        goto #20\n",
      "\u001b[90m20 ─\u001b[39m        goto #21\n",
      "\u001b[90m21 ─\u001b[39m        goto #22\n",
      "\u001b[90m22 ─\u001b[39m %65  = (Base.Broadcast.typeof)(%61)\u001b[91m\u001b[1m::Union{Type{RotatedSecondOrderCone}, Type{SecondOrderCone}}\u001b[22m\u001b[39m\n",
      "\u001b[90m│   \u001b[39m %66  = (Base.Broadcast.similar)(%31, %65)\u001b[91m\u001b[1m::Union{Array{RotatedSecondOrderCone,1}, Array{SecondOrderCone,1}}\u001b[22m\u001b[39m\n",
      "\u001b[90m│   \u001b[39m        (Base.setindex!)(%66, %61, %37)\n",
      "\u001b[90m│   \u001b[39m %68  = Base.Broadcast.copyto_nonleaf!\u001b[36m::typeof(Base.Broadcast.copyto_nonleaf!)\u001b[39m\n",
      "\u001b[90m│   \u001b[39m %69  = (isa)(%66, Array{MathOptInterface.RotatedSecondOrderCone,1})\u001b[36m::Bool\u001b[39m\n",
      "\u001b[90m└───\u001b[39m        goto #24 if not %69\n",
      "\u001b[90m23 ─\u001b[39m %71  = π (%66, \u001b[36mArray{MathOptInterface.RotatedSecondOrderCone,1}\u001b[39m)\n",
      "\u001b[90m│   \u001b[39m %72  = invoke %68(%71::Array{MathOptInterface.RotatedSecondOrderCone,1}, %31::Base.Broadcast.Broadcasted{Base.Broadcast.DefaultArrayStyle{1},Tuple{Base.OneTo{Int64}},getfield(Main, Symbol(\"##3#4\")){Int64},Tuple{Base.Broadcast.Extruded{Array{Bool,1},Tuple{Bool},Tuple{Int64}}}}, %8::Base.OneTo{Int64}, %38::Int64, 1::Int64)\u001b[91m\u001b[1m::Array\u001b[22m\u001b[39m\n",
      "\u001b[90m└───\u001b[39m        goto #27\n",
      "\u001b[90m24 ─\u001b[39m %74  = (isa)(%66, Array{MathOptInterface.SecondOrderCone,1})\u001b[36m::Bool\u001b[39m\n",
      "\u001b[90m└───\u001b[39m        goto #26 if not %74\n",
      "\u001b[90m25 ─\u001b[39m %76  = π (%66, \u001b[36mArray{MathOptInterface.SecondOrderCone,1}\u001b[39m)\n",
      "\u001b[90m│   \u001b[39m %77  = invoke %68(%76::Array{MathOptInterface.SecondOrderCone,1}, %31::Base.Broadcast.Broadcasted{Base.Broadcast.DefaultArrayStyle{1},Tuple{Base.OneTo{Int64}},getfield(Main, Symbol(\"##3#4\")){Int64},Tuple{Base.Broadcast.Extruded{Array{Bool,1},Tuple{Bool},Tuple{Int64}}}}, %8::Base.OneTo{Int64}, %38::Int64, 1::Int64)\u001b[91m\u001b[1m::Array\u001b[22m\u001b[39m\n",
      "\u001b[90m└───\u001b[39m        goto #27\n",
      "\u001b[90m26 ─\u001b[39m        (Core.throw)(ErrorException(\"fatal error in type inference (type bound)\"))\n",
      "\u001b[90m└───\u001b[39m        $(Expr(:unreachable))\n",
      "\u001b[90m27 ┄\u001b[39m %81  = φ (#23 => %72, #25 => %77)\u001b[91m\u001b[1m::Array\u001b[22m\u001b[39m\n",
      "\u001b[90m└───\u001b[39m        goto #28\n",
      "\u001b[90m28 ┄\u001b[39m %83  = φ (#5 => %20, #10 => %40, #27 => %81)\u001b[91m\u001b[1m::Any\u001b[22m\u001b[39m\n",
      "\u001b[90m└───\u001b[39m        goto #29\n",
      "\u001b[90m29 ─\u001b[39m %85  = (Base.sle_int)(1, %1)\u001b[36m::Bool\u001b[39m\n",
      "\u001b[90m│   \u001b[39m %86  = (Base.ifelse)(%85, %1, 0)\u001b[36m::Int64\u001b[39m\n",
      "\u001b[90m│   \u001b[39m %87  = (Base.Checked.checked_ssub_int)(%86, 1)\u001b[36m::Tuple{Int64,Bool}\u001b[39m\n",
      "\u001b[90m│   \u001b[39m %88  = (Base.getfield)(%87, 1)\u001b[36m::Int64\u001b[39m\n",
      "\u001b[90m│   \u001b[39m %89  = (Base.getfield)(%87, 2)\u001b[36m::Bool\u001b[39m\n",
      "\u001b[90m└───\u001b[39m        goto #31 if not %89\n",
      "\u001b[90m30 ─\u001b[39m        invoke Base.Checked.throw_overflowerr_binaryop(:-::Symbol, %86::Int64, 1::Int64)\n",
      "\u001b[90m└───\u001b[39m        $(Expr(:unreachable))\n",
      "\u001b[90m31 ┄\u001b[39m        goto #32\n",
      "\u001b[90m32 ─\u001b[39m %94  = (Base.Checked.checked_sadd_int)(%88, 1)\u001b[36m::Tuple{Int64,Bool}\u001b[39m\n",
      "\u001b[90m│   \u001b[39m %95  = (Base.getfield)(%94, 1)\u001b[36m::Int64\u001b[39m\n",
      "\u001b[90m│   \u001b[39m %96  = (Base.getfield)(%94, 2)\u001b[36m::Bool\u001b[39m\n",
      "\u001b[90m└───\u001b[39m        goto #34 if not %96\n",
      "\u001b[90m33 ─\u001b[39m        invoke Base.Checked.throw_overflowerr_binaryop(:+::Symbol, %88::Int64, 1::Int64)\n",
      "\u001b[90m└───\u001b[39m        $(Expr(:unreachable))\n",
      "\u001b[90m34 ┄\u001b[39m        goto #35\n",
      "\u001b[90m35 ─\u001b[39m        goto #36\n",
      "\u001b[90m36 ─\u001b[39m %102 = $(Expr(:foreigncall, :(:jl_alloc_array_1d), Array{ConstraintRef{Model,C,Shape} where Shape<:AbstractShape where C,1}, svec(Any, Int64), :(:ccall), 2, Array{ConstraintRef{Model,C,Shape} where Shape<:AbstractShape where C,1}, :(%95), :(%95)))\u001b[36m::Array{ConstraintRef{Model,C,Shape} where Shape<:AbstractShape where C,1}\u001b[39m\n",
      "\u001b[90m│   \u001b[39m %103 = (Base.sle_int)(1, %1)\u001b[36m::Bool\u001b[39m\n",
      "\u001b[90m│   \u001b[39m %104 = (Base.ifelse)(%103, %1, 0)\u001b[36m::Int64\u001b[39m\n",
      "\u001b[90m│   \u001b[39m %105 = (Base.slt_int)(%104, 1)\u001b[36m::Bool\u001b[39m\n",
      "\u001b[90m└───\u001b[39m        goto #38 if not %105\n",
      "\u001b[90m37 ─\u001b[39m        goto #39\n",
      "\u001b[90m38 ─\u001b[39m        goto #39\n",
      "\u001b[90m39 ┄\u001b[39m %109 = φ (#37 => true, #38 => false)\u001b[36m::Bool\u001b[39m\n",
      "\u001b[90m│   \u001b[39m %110 = φ (#38 => 1)\u001b[36m::Int64\u001b[39m\n",
      "\u001b[90m│   \u001b[39m %111 = φ (#38 => 1)\u001b[36m::Int64\u001b[39m\n",
      "\u001b[90m│   \u001b[39m %112 = (Base.not_int)(%109)\u001b[36m::Bool\u001b[39m\n",
      "\u001b[90m└───\u001b[39m        goto #52 if not %112\n",
      "\u001b[90m40 ┄\u001b[39m %114 = φ (#39 => %110, #51 => %150)\u001b[36m::Int64\u001b[39m\n",
      "\u001b[90m│   \u001b[39m %115 = φ (#39 => %111, #51 => %151)\u001b[36m::Int64\u001b[39m\n",
      "\u001b[90m│   \u001b[39m        (Base.arraysize)(x, 1)\n",
      "\u001b[90m│   \u001b[39m %117 = (Base.arraysize)(x, 2)\u001b[36m::Int64\u001b[39m\n",
      "\u001b[90m│   \u001b[39m %118 = (Base.slt_int)(%117, 0)\u001b[36m::Bool\u001b[39m\n",
      "\u001b[90m│   \u001b[39m %119 = (Base.ifelse)(%118, 0, %117)\u001b[36m::Int64\u001b[39m\n",
      "\u001b[90m│   \u001b[39m %120 = %new(Base.OneTo{Int64}, %119)\u001b[36m::Base.OneTo{Int64}\u001b[39m\n",
      "\u001b[90m│   \u001b[39m %121 = %new(Base.Slice{Base.OneTo{Int64}}, %120)\u001b[36m::Base.Slice{Base.OneTo{Int64}}\u001b[39m\n",
      "\u001b[90m└───\u001b[39m        goto #45 if not true\n",
      "\u001b[90m41 ─\u001b[39m %123 = (Core.tuple)(%114, %121)\u001b[36m::Tuple{Int64,Base.Slice{Base.OneTo{Int64}}}\u001b[39m\n",
      "\u001b[90m│   \u001b[39m %124 = (Base.arraysize)(x, 1)\u001b[36m::Int64\u001b[39m\n",
      "\u001b[90m│   \u001b[39m        (Base.arraysize)(x, 2)\n",
      "\u001b[90m│   \u001b[39m %126 = (Base.slt_int)(%124, 0)\u001b[36m::Bool\u001b[39m\n",
      "\u001b[90m│   \u001b[39m %127 = (Base.ifelse)(%126, 0, %124)\u001b[36m::Int64\u001b[39m\n",
      "\u001b[90m│   \u001b[39m %128 = (Base.sle_int)(1, %114)\u001b[36m::Bool\u001b[39m\n",
      "\u001b[90m│   \u001b[39m %129 = (Base.sle_int)(%114, %127)\u001b[36m::Bool\u001b[39m\n",
      "\u001b[90m│   \u001b[39m %130 = (Base.and_int)(%128, %129)\u001b[36m::Bool\u001b[39m\n",
      "\u001b[90m│   \u001b[39m %131 = (Base.and_int)(%130, true)\u001b[36m::Bool\u001b[39m\n",
      "\u001b[90m└───\u001b[39m        goto #43 if not %131\n",
      "\u001b[90m42 ─\u001b[39m        goto #44\n",
      "\u001b[90m43 ─\u001b[39m        invoke Base.throw_boundserror(_3::Array{VariableRef,2}, %123::Tuple{Int64,Base.Slice{Base.OneTo{Int64}}})\n",
      "\u001b[90m└───\u001b[39m        $(Expr(:unreachable))\n",
      "\u001b[90m44 ┄\u001b[39m        nothing\n",
      "\u001b[90m45 ┄\u001b[39m %137 = invoke Base._unsafe_getindex($(QuoteNode(IndexLinear()))::IndexLinear, _3::Array{VariableRef,2}, %114::Int64, %121::Base.Slice{Base.OneTo{Int64}})\u001b[36m::Array{VariableRef,1}\u001b[39m\n",
      "\u001b[90m└───\u001b[39m        goto #46\n",
      "\u001b[90m46 ─\u001b[39m        goto #47\n",
      "\u001b[90m47 ─\u001b[39m %140 = invoke JuMP._destructive_add_with_reorder!($(QuoteNode(Val{false}()))::Val{false}, %137::Array{VariableRef,1})\u001b[36m::Array{VariableRef,1}\u001b[39m\n",
      "\u001b[90m│   \u001b[39m %141 = (Base.getindex)(%83, %114)\u001b[91m\u001b[1m::Any\u001b[22m\u001b[39m\n"
     ]
    },
    {
     "name": "stdout",
     "output_type": "stream",
     "text": [
      "\u001b[90m│   \u001b[39m %142 = (JuMP.build_constraint)(getfield(JuMP, Symbol(\"#_error#55\")){Symbol}(Core.Box(Any[:model, :([i = 1:n]), :(x[i, :] in constraints[i])]), :constraint), %140, %141)\u001b[91m\u001b[1m::VectorConstraint{VariableRef,_1,VectorShape} where _1\u001b[22m\u001b[39m\n",
      "\u001b[90m│   \u001b[39m %143 = (JuMP.add_constraint)(model, %142, \"\")\u001b[91m\u001b[1m::ConstraintRef{Model,_1,VectorShape} where _1\u001b[22m\u001b[39m\n",
      "\u001b[90m│   \u001b[39m        (Base.arrayset)(true, %102, %143, %114)\n",
      "\u001b[90m│   \u001b[39m %145 = (%115 === %104)\u001b[36m::Bool\u001b[39m\n",
      "\u001b[90m└───\u001b[39m        goto #49 if not %145\n",
      "\u001b[90m48 ─\u001b[39m        goto #50\n",
      "\u001b[90m49 ─\u001b[39m %148 = (Base.add_int)(%115, 1)\u001b[36m::Int64\u001b[39m\n",
      "\u001b[90m└───\u001b[39m        goto #50\n",
      "\u001b[90m50 ┄\u001b[39m %150 = φ (#49 => %148)\u001b[36m::Int64\u001b[39m\n",
      "\u001b[90m│   \u001b[39m %151 = φ (#49 => %148)\u001b[36m::Int64\u001b[39m\n",
      "\u001b[90m│   \u001b[39m %152 = φ (#48 => true, #49 => false)\u001b[36m::Bool\u001b[39m\n",
      "\u001b[90m│   \u001b[39m %153 = (Base.not_int)(%152)\u001b[36m::Bool\u001b[39m\n",
      "\u001b[90m└───\u001b[39m        goto #52 if not %153\n",
      "\u001b[90m51 ─\u001b[39m        goto #40\n",
      "\u001b[90m52 ┄\u001b[39m        return %102\n"
     ]
    }
   ],
   "source": [
    "@code_warntype add_my_constraints_type(model,x,const_type)"
   ]
  }
 ],
 "metadata": {
  "celltoolbar": "Slideshow",
  "kernelspec": {
   "display_name": "Julia 1.1.0",
   "language": "julia",
   "name": "julia-1.1"
  },
  "language_info": {
   "file_extension": ".jl",
   "mimetype": "application/julia",
   "name": "julia",
   "version": "1.1.0"
  },
  "rise": {
   "scroll": true
  }
 },
 "nbformat": 4,
 "nbformat_minor": 2
}
